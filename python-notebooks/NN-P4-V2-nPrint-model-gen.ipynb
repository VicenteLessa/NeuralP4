{
 "cells": [
  {
   "cell_type": "code",
   "execution_count": 1,
   "metadata": {
    "colab": {
     "base_uri": "https://localhost:8080/"
    },
    "executionInfo": {
     "elapsed": 32174,
     "status": "ok",
     "timestamp": 1716259511383,
     "user": {
      "displayName": "Vicente Lessa",
      "userId": "14551761473643883791"
     },
     "user_tz": 180
    },
    "id": "93XXr2GHiBqA",
    "outputId": "426a70a0-e654-4846-dbd0-850c3cc8e0e2"
   },
   "outputs": [],
   "source": [
    "import time\n",
    "\n",
    "# Save timestamp\n",
    "start = time.time()\n",
    "\n",
    "\n",
    "\n",
    "\n",
    "import sys\n",
    "import os\n",
    "import pandas as pd\n",
    "import numpy as np\n",
    "import tensorflow as tf\n",
    "# import matplotlib.pyplot as plt\n",
    "import json\n",
    "from datetime import datetime"
   ]
  },
  {
   "cell_type": "code",
   "execution_count": 2,
   "metadata": {},
   "outputs": [
    {
     "name": "stdout",
     "output_type": "stream",
     "text": [
      "2.18.0-dev20240611\n"
     ]
    }
   ],
   "source": [
    "print(tf.version.VERSION)"
   ]
  },
  {
   "cell_type": "markdown",
   "metadata": {
    "id": "q8SEnBPkJBjY"
   },
   "source": [
    "### Specify here the NN topology and the dataframe to be loaded"
   ]
  },
  {
   "cell_type": "code",
   "execution_count": 3,
   "metadata": {
    "executionInfo": {
     "elapsed": 245,
     "status": "ok",
     "timestamp": 1716259684236,
     "user": {
      "displayName": "Vicente Lessa",
      "userId": "14551761473643883791"
     },
     "user_tz": 180
    },
    "id": "CT-15-PmiHZn"
   },
   "outputs": [],
   "source": [
    "#specify the NN topology here:\n",
    "#input_layer_nodes = number_of_attributes\n",
    "number_of_attributes = 32\n",
    "hidden_layer_nodes = 31\n",
    "output_layer_nodes = 3\n",
    "\n",
    "\n",
    "use_case = \"os-detection\"\n",
    "dataset_folder = f\"../datasets/nprint-raw/{use_case}/\"\n",
    "features_rankings = f\"../datasets/nprint-raw/{use_case}/feature-importance.csv\"\n",
    "\n"
   ]
  },
  {
   "cell_type": "markdown",
   "metadata": {
    "id": "d35dDblII_J9"
   },
   "source": [
    "###Define the model"
   ]
  },
  {
   "cell_type": "code",
   "execution_count": 4,
   "metadata": {
    "executionInfo": {
     "elapsed": 314,
     "status": "ok",
     "timestamp": 1716259688443,
     "user": {
      "displayName": "Vicente Lessa",
      "userId": "14551761473643883791"
     },
     "user_tz": 180
    },
    "id": "tj2cFHLXkoXh"
   },
   "outputs": [],
   "source": [
    "BATCH_SIZE = 512\n",
    "EPOCHS = 500\n",
    "\n",
    "def get_basic_model():\n",
    "  model = tf.keras.Sequential([\n",
    "    normalizer,\n",
    "    tf.keras.layers.Dense(hidden_layer_nodes, activation='relu'),\n",
    "    tf.keras.layers.Dense(output_layer_nodes)\n",
    "  ])\n",
    "\n",
    "  model.compile(optimizer='adam',\n",
    "                loss=tf.keras.losses.SparseCategoricalCrossentropy(from_logits=True),\n",
    "                metrics=['accuracy'])\n",
    "  return model"
   ]
  },
  {
   "cell_type": "markdown",
   "metadata": {
    "id": "LaiUaBAuI6HD"
   },
   "source": [
    "###Import the data"
   ]
  },
  {
   "cell_type": "code",
   "execution_count": 5,
   "metadata": {
    "executionInfo": {
     "elapsed": 2838,
     "status": "ok",
     "timestamp": 1716259736242,
     "user": {
      "displayName": "Vicente Lessa",
      "userId": "14551761473643883791"
     },
     "user_tz": 180
    },
    "id": "NLYaSSiIhrgz"
   },
   "outputs": [
    {
     "data": {
      "text/html": [
       "<div>\n",
       "<style scoped>\n",
       "    .dataframe tbody tr th:only-of-type {\n",
       "        vertical-align: middle;\n",
       "    }\n",
       "\n",
       "    .dataframe tbody tr th {\n",
       "        vertical-align: top;\n",
       "    }\n",
       "\n",
       "    .dataframe thead th {\n",
       "        text-align: right;\n",
       "    }\n",
       "</style>\n",
       "<table border=\"1\" class=\"dataframe\">\n",
       "  <thead>\n",
       "    <tr style=\"text-align: right;\">\n",
       "      <th></th>\n",
       "      <th>pcap</th>\n",
       "      <th>label</th>\n",
       "    </tr>\n",
       "  </thead>\n",
       "  <tbody>\n",
       "    <tr>\n",
       "      <th>0</th>\n",
       "      <td>485057076225527219_ubuntu_web-server</td>\n",
       "      <td>1</td>\n",
       "    </tr>\n",
       "    <tr>\n",
       "      <th>1</th>\n",
       "      <td>1152879459140876005_windows_windows-8.1</td>\n",
       "      <td>2</td>\n",
       "    </tr>\n",
       "    <tr>\n",
       "      <th>2</th>\n",
       "      <td>1229535654243745902_ubuntu_ubuntu-16.4-64b</td>\n",
       "      <td>1</td>\n",
       "    </tr>\n",
       "    <tr>\n",
       "      <th>3</th>\n",
       "      <td>584301198936813692_ubuntu_ubuntu-16.4-64b</td>\n",
       "      <td>1</td>\n",
       "    </tr>\n",
       "    <tr>\n",
       "      <th>4</th>\n",
       "      <td>203665707225169563_windows_windows-7-pro</td>\n",
       "      <td>2</td>\n",
       "    </tr>\n",
       "    <tr>\n",
       "      <th>...</th>\n",
       "      <td>...</td>\n",
       "      <td>...</td>\n",
       "    </tr>\n",
       "    <tr>\n",
       "      <th>739</th>\n",
       "      <td>1186303398913338167_ubuntu_ubuntu-16.4-64b</td>\n",
       "      <td>1</td>\n",
       "    </tr>\n",
       "    <tr>\n",
       "      <th>740</th>\n",
       "      <td>934697405162209634_windows_windows-10-pro</td>\n",
       "      <td>2</td>\n",
       "    </tr>\n",
       "    <tr>\n",
       "      <th>741</th>\n",
       "      <td>1195865193455630139_ubuntu_ubuntu-14.4-32b</td>\n",
       "      <td>1</td>\n",
       "    </tr>\n",
       "    <tr>\n",
       "      <th>742</th>\n",
       "      <td>749383642870436473_windows_windows-10-pro</td>\n",
       "      <td>2</td>\n",
       "    </tr>\n",
       "    <tr>\n",
       "      <th>743</th>\n",
       "      <td>958911655304825626_windows_windows-vista</td>\n",
       "      <td>2</td>\n",
       "    </tr>\n",
       "  </tbody>\n",
       "</table>\n",
       "<p>744 rows × 2 columns</p>\n",
       "</div>"
      ],
      "text/plain": [
       "                                           pcap  label\n",
       "0          485057076225527219_ubuntu_web-server      1\n",
       "1       1152879459140876005_windows_windows-8.1      2\n",
       "2    1229535654243745902_ubuntu_ubuntu-16.4-64b      1\n",
       "3     584301198936813692_ubuntu_ubuntu-16.4-64b      1\n",
       "4      203665707225169563_windows_windows-7-pro      2\n",
       "..                                          ...    ...\n",
       "739  1186303398913338167_ubuntu_ubuntu-16.4-64b      1\n",
       "740   934697405162209634_windows_windows-10-pro      2\n",
       "741  1195865193455630139_ubuntu_ubuntu-14.4-32b      1\n",
       "742   749383642870436473_windows_windows-10-pro      2\n",
       "743    958911655304825626_windows_windows-vista      2\n",
       "\n",
       "[744 rows x 2 columns]"
      ]
     },
     "metadata": {},
     "output_type": "display_data"
    }
   ],
   "source": [
    "df_train = pd.read_csv(f'{dataset_folder}X.csv')\n",
    "df_test = pd.read_csv(f'{dataset_folder}X_val.csv')\n",
    "label_train = pd.read_csv(f'{dataset_folder}y.csv')\n",
    "label_test = pd.read_csv(f'{dataset_folder}y_val.csv')\n",
    "\n",
    "# df_train.drop('pcap', axis=1, inplace=True)\n",
    "# df_test.drop('pcap', axis=1, inplace=True)\n",
    "# label_train.drop('pcap', axis=1, inplace=True)\n",
    "# label_test.drop('pcap', axis=1, inplace=True)\n",
    "label_train.rename(columns={'0': 'label'}, inplace=True)\n",
    "label_test.rename(columns={'0': 'label'}, inplace=True)\n",
    "\n",
    "# display(df_train)\n",
    "# display(df_test)\n",
    "# display(label_train)\n",
    "display(label_test)"
   ]
  },
  {
   "cell_type": "code",
   "execution_count": 6,
   "metadata": {
    "executionInfo": {
     "elapsed": 252,
     "status": "ok",
     "timestamp": 1716259749230,
     "user": {
      "displayName": "Vicente Lessa",
      "userId": "14551761473643883791"
     },
     "user_tz": 180
    },
    "id": "bHgpzuUgWT0J"
   },
   "outputs": [],
   "source": [
    "#select a sub-dataframe with only the top attrs rate by the AUTOGLUON feature importance algorithm\n",
    "#load the file with the rankings\n",
    "features_rankings_df = pd.read_csv(features_rankings)\n",
    "features_rankings_df.rename(columns={'0': 'label'}, inplace=True)\n",
    "\n",
    "#make a list with only the best features\n",
    "feature_list = features_rankings_df['Unnamed: 0'].tolist()\n",
    "feature_list = feature_list[:number_of_attributes]\n",
    "# print(feature_list)\n",
    "\n",
    "#select a sub-dataframe with only the 32 top attrs rate by the AUTOGLUON feature importance algorithm\n",
    "df_train = df_train[feature_list]\n",
    "df_test = df_test[feature_list]\n",
    "# display(df_train)\n",
    "# display(df_test)"
   ]
  },
  {
   "cell_type": "code",
   "execution_count": 7,
   "metadata": {},
   "outputs": [],
   "source": [
    "#ONLY FOR VIDEO STREAM USE CASE\n",
    "#RTS values conversion for video-streaming use-case\n",
    "# INTEGER = 8\n",
    "\n",
    "# mini = []\n",
    "# maxi = []\n",
    "# column_list = [\"pkt_1_rts\", \"pkt_2_rts\", \"pkt_3_rts\", \"pkt_4_rts\", \"pkt_5_rts\", \"pkt_6_rts\", \"pkt_7_rts\", \"pkt_8_rts\"]\n",
    "# for column_name in column_list:\n",
    "#     mini.append(df_test[column_name].min())\n",
    "#     print(mini)    \n",
    "#     maxi.append(df_test[column_name].max())\n",
    "#     print(maxi)\n",
    "\n",
    "# maximo = max(maxi)\n",
    "# minimo = min(mini)\n",
    "# print(maximo)\n",
    "\n",
    "\n",
    "# display(df_test)\n",
    "# for column_name in column_list:\n",
    "#     aux = []\n",
    "#     for x in df_test[column_name]:\n",
    "#         normalized_value = (x - minimo) / (maximo - minimo)\n",
    "#         scaled_value = normalized_value * (2**INTEGER - 1)\n",
    "#         aux.append(scaled_value)\n",
    "#     df_test[column_name]=aux    \n",
    "# display(df_test)\n",
    "\n",
    "# mini = []\n",
    "# maxi = []\n",
    "# for column_name in column_list:\n",
    "#     mini.append(df_train[column_name].min())\n",
    "#     print(mini)    \n",
    "#     maxi.append(df_train[column_name].max())\n",
    "#     print(maxi)\n",
    "\n",
    "# maximo = max(maxi)\n",
    "# minimo = min(mini)\n",
    "# print(maximo)\n",
    "\n",
    "\n",
    "# display(df_train)\n",
    "# for column_name in column_list:\n",
    "#     aux = []\n",
    "#     for x in df_train[column_name]:\n",
    "#         normalized_value = (x - minimo) / (maximo - minimo)\n",
    "#         scaled_value = normalized_value * (2**INTEGER - 1)\n",
    "#         aux.append(scaled_value)\n",
    "#     df_train[column_name]=aux\n",
    "    \n",
    "# display(df_train)"
   ]
  },
  {
   "cell_type": "markdown",
   "metadata": {
    "id": "e3ngEN5GJTag"
   },
   "source": [
    "### NN training"
   ]
  },
  {
   "cell_type": "code",
   "execution_count": 8,
   "metadata": {
    "colab": {
     "base_uri": "https://localhost:8080/"
    },
    "executionInfo": {
     "elapsed": 29270,
     "status": "ok",
     "timestamp": 1716259884626,
     "user": {
      "displayName": "Vicente Lessa",
      "userId": "14551761473643883791"
     },
     "user_tz": 180
    },
    "id": "Axt9vLxMiO-6",
    "outputId": "9e385e82-fa0a-4943-c9c1-abaac3390b7c"
   },
   "outputs": [
    {
     "name": "stdout",
     "output_type": "stream",
     "text": [
      "Starting training for 32 attributes\n"
     ]
    },
    {
     "ename": "ValueError",
     "evalue": "Failed to convert a NumPy array to a Tensor (Unsupported object type int).",
     "output_type": "error",
     "traceback": [
      "\u001b[1;31m---------------------------------------------------------------------------\u001b[0m",
      "\u001b[1;31mValueError\u001b[0m                                Traceback (most recent call last)",
      "Cell \u001b[1;32mIn[8], line 17\u001b[0m\n\u001b[0;32m     15\u001b[0m \u001b[38;5;28mprint\u001b[39m(\u001b[38;5;124m'\u001b[39m\u001b[38;5;124mStarting training for\u001b[39m\u001b[38;5;124m'\u001b[39m,number_of_attributes,\u001b[38;5;124m'\u001b[39m\u001b[38;5;124mattributes\u001b[39m\u001b[38;5;124m'\u001b[39m)\n\u001b[0;32m     16\u001b[0m model \u001b[38;5;241m=\u001b[39m get_basic_model()\n\u001b[1;32m---> 17\u001b[0m model\u001b[38;5;241m.\u001b[39mfit(df_train, label_train, epochs\u001b[38;5;241m=\u001b[39mEPOCHS, verbose\u001b[38;5;241m=\u001b[39m\u001b[38;5;241m2\u001b[39m, batch_size\u001b[38;5;241m=\u001b[39mBATCH_SIZE)\n\u001b[0;32m     19\u001b[0m \u001b[38;5;66;03m# and Testing\u001b[39;00m\n\u001b[0;32m     20\u001b[0m test_loss, one_test_acc \u001b[38;5;241m=\u001b[39m  model\u001b[38;5;241m.\u001b[39mevaluate(df_test,  label_test, verbose\u001b[38;5;241m=\u001b[39m\u001b[38;5;241m1\u001b[39m, batch_size\u001b[38;5;241m=\u001b[39mBATCH_SIZE)\n",
      "File \u001b[1;32mC:\\Anaconda-env\\env-tf-2-15\\Lib\\site-packages\\keras\\src\\utils\\traceback_utils.py:122\u001b[0m, in \u001b[0;36mfilter_traceback.<locals>.error_handler\u001b[1;34m(*args, **kwargs)\u001b[0m\n\u001b[0;32m    119\u001b[0m     filtered_tb \u001b[38;5;241m=\u001b[39m _process_traceback_frames(e\u001b[38;5;241m.\u001b[39m__traceback__)\n\u001b[0;32m    120\u001b[0m     \u001b[38;5;66;03m# To get the full stack trace, call:\u001b[39;00m\n\u001b[0;32m    121\u001b[0m     \u001b[38;5;66;03m# `keras.config.disable_traceback_filtering()`\u001b[39;00m\n\u001b[1;32m--> 122\u001b[0m     \u001b[38;5;28;01mraise\u001b[39;00m e\u001b[38;5;241m.\u001b[39mwith_traceback(filtered_tb) \u001b[38;5;28;01mfrom\u001b[39;00m \u001b[38;5;28;01mNone\u001b[39;00m\n\u001b[0;32m    123\u001b[0m \u001b[38;5;28;01mfinally\u001b[39;00m:\n\u001b[0;32m    124\u001b[0m     \u001b[38;5;28;01mdel\u001b[39;00m filtered_tb\n",
      "File \u001b[1;32mC:\\Anaconda-env\\env-tf-2-15\\Lib\\site-packages\\tensorflow\\python\\framework\\constant_op.py:108\u001b[0m, in \u001b[0;36mconvert_to_eager_tensor\u001b[1;34m(value, ctx, dtype)\u001b[0m\n\u001b[0;32m    106\u001b[0m     dtype \u001b[38;5;241m=\u001b[39m dtypes\u001b[38;5;241m.\u001b[39mas_dtype(dtype)\u001b[38;5;241m.\u001b[39mas_datatype_enum\n\u001b[0;32m    107\u001b[0m ctx\u001b[38;5;241m.\u001b[39mensure_initialized()\n\u001b[1;32m--> 108\u001b[0m \u001b[38;5;28;01mreturn\u001b[39;00m ops\u001b[38;5;241m.\u001b[39mEagerTensor(value, ctx\u001b[38;5;241m.\u001b[39mdevice_name, dtype)\n",
      "\u001b[1;31mValueError\u001b[0m: Failed to convert a NumPy array to a Tensor (Unsupported object type int)."
     ]
    }
   ],
   "source": [
    "# Begin NN training\n",
    "NUMBER_OF_ATTRS = df_train.shape[1]\n",
    "\n",
    "# Convert int values to TF expect values (float)\n",
    "df_train = np.asarray(df_train).astype(np.float32)\n",
    "df_test = np.asarray(df_test).astype(np.float32)\n",
    "# Converts pandas dataframe to tensorflow object\n",
    "df_train = tf.convert_to_tensor(df_train)\n",
    "# Normalize the data\n",
    "normalizer = tf.keras.layers.Normalization()\n",
    "normalizer.adapt(df_train)\n",
    "#normalizer.adapt(numeric_features_test)\n",
    "\n",
    "# Execute Trainning \n",
    "print('Starting training for',number_of_attributes,'attributes')\n",
    "model = get_basic_model()\n",
    "model.fit(df_train, label_train, epochs=EPOCHS, verbose=2, batch_size=BATCH_SIZE)\n",
    "\n",
    "# and Testing\n",
    "test_loss, one_test_acc =  model.evaluate(df_test,  label_test, verbose=1, batch_size=BATCH_SIZE)\n",
    "tf_predictions_probabilities = model.predict(df_test)\n",
    "\n",
    "#Crate Confusion Matrix for better understanding of results\n",
    "tf_predictions = []\n",
    "for i,x in enumerate(tf_predictions_probabilities):\n",
    "  #print(\"i:\",i,\"x_max:\",x.max(),\"x:\",x)\n",
    "  j_max = x.argmax()\n",
    "  tf_predictions.append(j_max)\n",
    "\n",
    "conf_m = tf.math.confusion_matrix(label_test,tf_predictions)\n",
    "print(conf_m)"
   ]
  },
  {
   "cell_type": "code",
   "execution_count": null,
   "metadata": {},
   "outputs": [],
   "source": [
    "# Model info\n",
    "model.summary()\n",
    "\n",
    "norm_layer_weights = model.layers[0].get_weights()[0] #weight\n",
    "norm_layer_biases  = model.layers[0].get_weights()[1] #bias\n",
    "hidden_layer_weights = model.layers[1].get_weights()[0] #weight\n",
    "hidden_layer_biases  = model.layers[1].get_weights()[1] #bias\n",
    "out_layer_weights = model.layers[2].get_weights()[0] #weight\n",
    "out_layer_biases  = model.layers[2].get_weights()[1] #bias\n",
    "print('\\nInput -> Normalization Layer bias:\\n',norm_layer_biases)\n",
    "print('\\nInput -> Normalization Layer weights:\\n',norm_layer_weights)\n",
    "print('\\nNormalization -> Hidden Layer bias:\\n',hidden_layer_biases)\n",
    "print('\\nNormalization -> Hidden Layer weights:\\n',hidden_layer_weights)\n",
    "print('\\nHidden -> Output Layer bias:\\n',out_layer_biases)\n",
    "print('\\nHidden -> Output Layer weights:\\n',out_layer_weights,'\\n')"
   ]
  },
  {
   "cell_type": "code",
   "execution_count": null,
   "metadata": {
    "executionInfo": {
     "elapsed": 271,
     "status": "ok",
     "timestamp": 1716259966440,
     "user": {
      "displayName": "Vicente Lessa",
      "userId": "14551761473643883791"
     },
     "user_tz": 180
    },
    "id": "hqqrljwkNZ_p"
   },
   "outputs": [],
   "source": [
    "# Date for report file\n",
    "now = datetime.now()\n",
    "dt_string = now.strftime(\"%d-%m-%Y-%H-%M-%S\")\n",
    "print(dt_string)\n",
    "# Report file content\n",
    "report = {\n",
    "    \"datetime\": dt_string,\n",
    "    \"number_of_attributes\": number_of_attributes,\n",
    "    \"hidden_layer_nodes\": hidden_layer_nodes,\n",
    "    \"output_layer_nodes\": output_layer_nodes,\n",
    "    \"accuracy_test\": one_test_acc,\n",
    "    \"batch_size\": BATCH_SIZE,\n",
    "    \"epochs\": EPOCHS\n",
    "    #\"number_of_samples\": number_of_samples,\n",
    "    #\"df_number\": df_number\n",
    "}"
   ]
  },
  {
   "cell_type": "code",
   "execution_count": null,
   "metadata": {
    "executionInfo": {
     "elapsed": 5378,
     "status": "ok",
     "timestamp": 1716259977049,
     "user": {
      "displayName": "Vicente Lessa",
      "userId": "14551761473643883791"
     },
     "user_tz": 180
    },
    "id": "DL5sxqffj2co"
   },
   "outputs": [],
   "source": [
    "#TO DO: use save_models instead of save_weights\n",
    "\n",
    "# Model parameters json file generation, create file with date-time string to prevent unwated/accidental overwrites\n",
    "os.chdir('../tf-params-reports/')\n",
    "print(os.getcwd())\n",
    "\n",
    "title_parameters_save = f\"nn-nprint-{use_case}-model-parameters-{number_of_attributes}x{hidden_layer_nodes}x{output_layer_nodes}.json\"\n",
    "with open(title_parameters_save, \"w\") as f:\n",
    "  json.dump(report, f)\n",
    "\n",
    "title_parameters_save = f\"nn-nprint-{use_case}-model-parameters-{number_of_attributes}x{hidden_layer_nodes}x{output_layer_nodes}-{dt_string}.json\"\n",
    "with open(title_parameters_save, \"w\") as f:\n",
    "  json.dump(report, f)\n",
    "\n",
    "# Model file with weights and other params\n",
    "os.chdir('../tf-models/') \n",
    "print(os.getcwd())\n",
    "\n",
    "title_model_save = f'nn-nprint-{use_case}-model-{number_of_attributes}x{hidden_layer_nodes}x{output_layer_nodes}.keras'\n",
    "model.save(title_model_save)\n",
    "\n",
    "# Model weights file generation\n",
    "# os.chdir('../tf-model-weights/')\n",
    "# print(os.getcwd())\n",
    "\n",
    "# title_model_save = f'nn-nprint-model-weights-{number_of_attributes}x{hidden_layer_nodes}x{output_layer_nodes}.weights.h5'\n",
    "# model.save_weights(title_model_save) # Calling `save('my_model')` creates a SavedModel folder `my_model`.\n",
    "\n",
    "# title_model_save = f'nn-nprint-model-weights-{number_of_attributes}x{hidden_layer_nodes}x{output_layer_nodes}-{dt_string}.weights.h5'\n",
    "# model.save_weights(title_model_save) # Calling `save('my_model')` creates a SavedModel folder `my_model`.\n",
    "    \n",
    "# model.load_weights(f'nn-nprint-app-iden-model-weights-{number_of_attributes}x{hidden_layer_nodes}x{output_layer_nodes}.weights.h5')"
   ]
  },
  {
   "cell_type": "code",
   "execution_count": null,
   "metadata": {},
   "outputs": [],
   "source": [
    "# Save timestamp\n",
    "end = time.time()\n",
    "print(end - start)"
   ]
  },
  {
   "cell_type": "code",
   "execution_count": null,
   "metadata": {},
   "outputs": [],
   "source": [
    "\n",
    "# Acervo - comandos úteis os python\n",
    "# %pwd\n",
    "# os.chdir(C:\\NN-P4\\nn-reports)\n",
    "# cwd = os.getcwd()\n",
    "# print(cwd)\n",
    "# os.listdir()\n",
    "# os.chdir('../nn-reports/')"
   ]
  },
  {
   "cell_type": "code",
   "execution_count": null,
   "metadata": {
    "colab": {
     "base_uri": "https://localhost:8080/",
     "height": 356
    },
    "executionInfo": {
     "elapsed": 1108,
     "status": "error",
     "timestamp": 1716259692331,
     "user": {
      "displayName": "Vicente Lessa",
      "userId": "14551761473643883791"
     },
     "user_tz": 180
    },
    "id": "OsFlOvQqF-KK",
    "outputId": "7f2b6ca8-0e18-477c-c605-075a9a5eeb1a"
   },
   "outputs": [],
   "source": [
    "# df_train = pd.read_pickle('/content/drive/MyDrive/nprint/nn-reproduction/app-iden/X.pkl')\n",
    "# df_test = pd.read_pickle('/content/drive/MyDrive/nprint/nn-reproduction/app-iden/X_val.pkl')\n",
    "# label_train = pd.read_pickle('/content/drive/MyDrive/nprint/nn-reproduction/app-iden/y.pkl')\n",
    "# label_test = pd.read_pickle('/content/drive/MyDrive/nprint/nn-reproduction/app-iden/y_val.pkl')"
   ]
  }
 ],
 "metadata": {
  "colab": {
   "authorship_tag": "ABX9TyOIH1M4SDzT/02evItuJvc2",
   "provenance": [
    {
     "file_id": "1N0tN69OVtNS4K7h67xdyUtJ0_hWbDa9x",
     "timestamp": 1701094766071
    },
    {
     "file_id": "18-qqwOnAL89_m5Lb45uZ40u1ut46iuIU",
     "timestamp": 1690808958392
    },
    {
     "file_id": "19JxEc2VYTW6pRVyhOmnsRVPvksE5gBBN",
     "timestamp": 1661778258249
    },
    {
     "file_id": "1u0E4CFsBf4k62yi38gfqB4HlagC-Tfhc",
     "timestamp": 1661541388425
    },
    {
     "file_id": "1Cpg4jNgwyPiT4AGenVm1xCQgBrzxHhCT",
     "timestamp": 1643821363627
    },
    {
     "file_id": "1k-uty64gq4zwMYT-FFDYnhQ-9Z5bXvQ-",
     "timestamp": 1642608790480
    },
    {
     "file_id": "1eXxWzQSIUjunkjCGopzkFpuoB42a7YbS",
     "timestamp": 1642604110588
    },
    {
     "file_id": "1Y0hheLUxBgA_oy3QG9nY0JRieWhjt4BM",
     "timestamp": 1639758139710
    }
   ]
  },
  "kernelspec": {
   "display_name": "Python 3 (ipykernel)",
   "language": "python",
   "name": "python3"
  },
  "language_info": {
   "codemirror_mode": {
    "name": "ipython",
    "version": 3
   },
   "file_extension": ".py",
   "mimetype": "text/x-python",
   "name": "python",
   "nbconvert_exporter": "python",
   "pygments_lexer": "ipython3",
   "version": "3.12.3"
  }
 },
 "nbformat": 4,
 "nbformat_minor": 4
}
