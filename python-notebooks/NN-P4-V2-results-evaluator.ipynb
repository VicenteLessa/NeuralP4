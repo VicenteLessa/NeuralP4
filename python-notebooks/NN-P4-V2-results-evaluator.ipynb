{
 "cells": [
  {
   "cell_type": "code",
   "execution_count": 1,
   "metadata": {
    "colab": {
     "base_uri": "https://localhost:8080/"
    },
    "executionInfo": {
     "elapsed": 2042,
     "status": "ok",
     "timestamp": 1704722718831,
     "user": {
      "displayName": "Vicente Lessa",
      "userId": "14551761473643883791"
     },
     "user_tz": 180
    },
    "id": "93XXr2GHiBqA",
    "outputId": "770514a1-4e51-404c-9adc-26dc5f4a15c8"
   },
   "outputs": [],
   "source": [
    "import os\n",
    "import json\n",
    "import numpy as np\n",
    "import pandas as pd\n",
    "import matplotlib.pyplot as plt\n",
    "import math\n",
    "from datetime import datetime"
   ]
  },
  {
   "cell_type": "code",
   "execution_count": 2,
   "metadata": {
    "colab": {
     "base_uri": "https://localhost:8080/",
     "height": 1000
    },
    "executionInfo": {
     "elapsed": 1071,
     "status": "ok",
     "timestamp": 1704722740442,
     "user": {
      "displayName": "Vicente Lessa",
      "userId": "14551761473643883791"
     },
     "user_tz": 180
    },
    "id": "BQgW9neMgzbN",
    "outputId": "426a2609-dcd2-438f-c74e-0370cf9fbda4"
   },
   "outputs": [],
   "source": [
    "df_real_app     = pd.read_csv(f\"../datasets/nprint-raw/app-iden/y_val.csv\")\n",
    "df_real_country = pd.read_csv(f\"../datasets/nprint-raw/country-of-origin/y_val.csv\")\n",
    "df_real_iot     = pd.read_csv(f\"../datasets/nprint-raw/netml-iot/y_val.csv\")\n",
    "df_real_os      = pd.read_csv(f\"../datasets/nprint-raw/os-detection/y_val.csv\")\n",
    "df_real_video   = pd.read_csv(f\"../datasets/nprint-raw/stream-video/y_val.csv\")\n",
    "\n",
    "df_p4_os_q4_4       = pd.read_csv(f\"../p4-csv-result-files/p4-out-os-detection-32x32x3-q4_4.csv\")\n",
    "df_p4_os_q5_5       = pd.read_csv(f\"../p4-csv-result-files/p4-out-os-detection-32x32x3-q5_5.csv\")\n",
    "df_p4_os_q6_6       = pd.read_csv(f\"../p4-csv-result-files/p4-out-os-detection-32x32x3-q6_6.csv\")\n",
    "df_p4_os_q7_7       = pd.read_csv(f\"../p4-csv-result-files/p4-out-os-detection-32x32x3-q6_6.csv\")\n",
    "df_p4_os_q8_8       = pd.read_csv(f\"../p4-csv-result-files/p4-out-os-detection-32x32x3-q8_8.csv\")\n",
    "df_p4_os_q12_12     = pd.read_csv(f\"../p4-csv-result-files/p4-out-os-detection-32x32x3-q12_12.csv\")\n",
    "df_p4_os_q16_16     = pd.read_csv(f\"../p4-csv-result-files/p4-out-os-detection-32x32x3-q16_16.csv\")\n",
    "\n",
    "df_p4_app_q4_4       = pd.read_csv(f\"../p4-csv-result-files/p4-out-app-iden-27x27x7-q4_4.csv\")\n",
    "df_p4_app_q5_5       = pd.read_csv(f\"../p4-csv-result-files/p4-out-app-iden-27x27x7-q5_5.csv\")\n",
    "df_p4_app_q6_6       = pd.read_csv(f\"../p4-csv-result-files/p4-out-app-iden-27x27x7-q6_6.csv\")\n",
    "df_p4_app_q7_7       = pd.read_csv(f\"../p4-csv-result-files/p4-out-app-iden-27x27x7-q7_7.csv\")\n",
    "df_p4_app_q8_8       = pd.read_csv(f\"../p4-csv-result-files/p4-out-app-iden-27x27x7-q8_8.csv\")\n",
    "df_p4_app_q12_12     = pd.read_csv(f\"../p4-csv-result-files/p4-out-app-iden-27x27x7-q12_12.csv\")\n",
    "df_p4_app_q16_16     = pd.read_csv(f\"../p4-csv-result-files/p4-out-app-iden-27x27x7-q16_16.csv\")\n",
    "\n",
    "df_p4_country_q4_4       = pd.read_csv(f\"../p4-csv-result-files/p4-out-country-of-origin-16x32x3-q4_4.csv\")\n",
    "df_p4_country_q5_5       = pd.read_csv(f\"../p4-csv-result-files/p4-out-country-of-origin-16x32x3-q5_5.csv\")\n",
    "df_p4_country_q6_6       = pd.read_csv(f\"../p4-csv-result-files/p4-out-country-of-origin-16x32x3-q6_6.csv\")\n",
    "df_p4_country_q7_7       = pd.read_csv(f\"../p4-csv-result-files/p4-out-country-of-origin-16x32x3-q7_7.csv\")\n",
    "df_p4_country_q8_8       = pd.read_csv(f\"../p4-csv-result-files/p4-out-country-of-origin-16x32x3-q8_8.csv\")\n",
    "df_p4_country_q12_12     = pd.read_csv(f\"../p4-csv-result-files/p4-out-country-of-origin-16x32x3-q12_12.csv\")\n",
    "df_p4_country_q16_16     = pd.read_csv(f\"../p4-csv-result-files/p4-out-country-of-origin-16x32x3-q16_16.csv\")\n",
    "\n",
    "df_p4_iot_q4_4       = pd.read_csv(f\"../p4-csv-result-files/p4-out-netml-iot-16x32x2-q4_4.csv\")\n",
    "df_p4_iot_q5_5       = pd.read_csv(f\"../p4-csv-result-files/p4-out-netml-iot-16x32x2-q5_5.csv\")\n",
    "df_p4_iot_q6_6       = pd.read_csv(f\"../p4-csv-result-files/p4-out-netml-iot-16x32x2-q6_6.csv\")\n",
    "df_p4_iot_q7_7       = pd.read_csv(f\"../p4-csv-result-files/p4-out-netml-iot-16x32x2-q7_7.csv\")\n",
    "df_p4_iot_q8_8       = pd.read_csv(f\"../p4-csv-result-files/p4-out-netml-iot-16x32x2-q8_8.csv\")\n",
    "df_p4_iot_q12_12     = pd.read_csv(f\"../p4-csv-result-files/p4-out-netml-iot-16x32x2-q12_12.csv\")\n",
    "df_p4_iot_q16_16     = pd.read_csv(f\"../p4-csv-result-files/p4-out-netml-iot-16x32x2-q16_16.csv\")\n",
    "\n",
    "# df_p4_video_q4_4       = pd.read_csv(f\"../p4-csv-result-files/p4-out-stream-video-32x32x4-q4_4.csv\")\n",
    "# df_p4_video_q5_5       = pd.read_csv(f\"../p4-csv-result-files/p4-out-stream-video-32x32x4-q5_5.csv\")\n",
    "# df_p4_video_q6_6       = pd.read_csv(f\"../p4-csv-result-files/p4-out-stream-video-32x32x4-q6_6.csv\")\n",
    "# df_p4_video_q7_7       = pd.read_csv(f\"../p4-csv-result-files/p4-out-stream-video-32x32x4-q7_7.csv\")\n",
    "df_p4_video_q8_8       = pd.read_csv(f\"../p4-csv-result-files/p4-out-stream-video-32x32x4-q8_8.csv\")\n",
    "# df_p4_video_q12_12     = pd.read_csv(f\"../p4-csv-result-files/p4-out-stream-video-32x32x4-q12_12.csv\")\n",
    "df_p4_video_q16_16     = pd.read_csv(f\"../p4-csv-result-files/p4-out-stream-video-32x32x4-q16_16.csv\")\n",
    "\n",
    "#In TF it's alywas float 32 bits so we actualy Don't need these multiple/diffent DF for each number of bits. they \n",
    "df_tf_app_q8_8     = pd.read_csv(f\"../tf-csv-result-files/tf-out-class-app-iden-27x27x7-q8_8.csv\")\n",
    "df_tf_country_q8_8 = pd.read_csv(f\"../tf-csv-result-files/tf-out-class-country-of-origin-16x32x3-q8_8.csv\")\n",
    "df_tf_iot_q8_8     = pd.read_csv(f\"../tf-csv-result-files/tf-out-class-netml-iot-16x32x2-q8_8.csv\")\n",
    "df_tf_os_q8_8      = pd.read_csv(f\"../tf-csv-result-files/tf-out-class-os-detection-32x32x3-q8_8.csv\")\n",
    "df_tf_video_q8_8   = pd.read_csv(f\"../tf-csv-result-files/tf-out-class-stream-video-32x32x4-q8_8.csv\")\n",
    "\n",
    "df_tf_app_q12_12     = pd.read_csv(f\"../tf-csv-result-files/tf-out-class-app-iden-27x27x7-q12_12.csv\")\n",
    "df_tf_country_q12_12 = pd.read_csv(f\"../tf-csv-result-files/tf-out-class-country-of-origin-16x32x3-q12_12.csv\")\n",
    "df_tf_iot_q12_12     = pd.read_csv(f\"../tf-csv-result-files/tf-out-class-netml-iot-16x32x2-q12_12.csv\")\n",
    "df_tf_os_q12_12      = pd.read_csv(f\"../tf-csv-result-files/tf-out-class-os-detection-32x32x3-q12_12.csv\")\n",
    "\n",
    "df_tf_app_q16_16     = pd.read_csv(f\"../tf-csv-result-files/tf-out-class-app-iden-27x27x7-q16_16.csv\")\n",
    "df_tf_country_q16_16 = pd.read_csv(f\"../tf-csv-result-files/tf-out-class-country-of-origin-16x32x3-q16_16.csv\")\n",
    "df_tf_iot_q16_16     = pd.read_csv(f\"../tf-csv-result-files/tf-out-class-netml-iot-16x32x2-q16_16.csv\")\n",
    "df_tf_os_q16_16      = pd.read_csv(f\"../tf-csv-result-files/tf-out-class-os-detection-32x32x3-q16_16.csv\")\n",
    "df_tf_video_q16_16   = pd.read_csv(f\"../tf-csv-result-files/tf-out-class-stream-video-32x32x4-q16_16.csv\")"
   ]
  },
  {
   "cell_type": "code",
   "execution_count": 3,
   "metadata": {},
   "outputs": [
    {
     "name": "stdout",
     "output_type": "stream",
     "text": [
      "Use case: OS\n",
      "Tensorflow: tf_vs_real_hits: 743, tf_vs_real_accuracy: 0.9986559139784946\n",
      "P4 versus TF Similarity: [480, 698, 744, 744, 744]/744\n",
      "Proportion (%): [64.51612903225806, 93.81720430107528, 100.0, 100.0, 100.0]\n",
      "P4 versus Real Accuracy: [479, 697, 743, 743, 743]/744\n",
      "Proportion (%): [64.38172043010752, 93.68279569892472, 99.86559139784946, 99.86559139784946, 99.86559139784946]\n"
     ]
    }
   ],
   "source": [
    "print(\"Use case: OS\")\n",
    "#get data\n",
    "df_real = df_real_os\n",
    "length = len(df_real)\n",
    "df_tf = df_tf_os_q16_16\n",
    "df_p4_os_array = [df_p4_os_q4_4[\"s126_data_2\"], df_p4_os_q5_5[\"s126_data_2\"], df_p4_os_q6_6[\"s126_data_2\"], df_p4_os_q7_7[\"s126_data_2\"], df_p4_os_q8_8[\"s126_data_2\"]]\n",
    "# #############################\n",
    "#Calculate TF performance\n",
    "tf_vs_real_hits = (df_real[\"0\"] == df_tf[\"tf_predictions\"]).sum()\n",
    "tf_vs_real_accuracy = tf_vs_real_hits / length\n",
    "print(f\"Tensorflow: tf_vs_real_hits: {tf_vs_real_hits}, tf_vs_real_accuracy: {tf_vs_real_accuracy}\")\n",
    "# #############################\n",
    "#Calculate P4 performance over TF with varying representations\n",
    "os_vs_tf_hits = []\n",
    "os_vs_real_hits = []\n",
    "for i,rep in enumerate(df_p4_os_array):\n",
    "    if len(df_tf[\"tf_predictions\"]) == len(rep):\n",
    "        os_vs_tf_hits.append(sum(1 for pred, val in zip(df_tf[\"tf_predictions\"], rep) if pred == val))\n",
    "        os_vs_real_hits.append(sum(1 for pred, val in zip(df_real[\"0\"], rep) if pred == val))\n",
    "\n",
    "os_similarities = []\n",
    "for sim in os_vs_tf_hits:\n",
    "    os_similarities.append((sim/length)*100)\n",
    "os_similarities_str = [f'{x:.2f}' for x in os_similarities]\n",
    "\n",
    "os_accuracies = []\n",
    "for acc in os_vs_real_hits:\n",
    "    os_accuracies.append((acc/length)*100)\n",
    "os_accuracies_str = [f'{x:.2f}' for x in os_accuracies]\n",
    "print(f\"P4 versus TF Similarity: {os_vs_tf_hits}/{length}\")\n",
    "print(f\"Proportion (%): {os_similarities}\")\n",
    "print(f\"P4 versus Real Accuracy: {os_vs_real_hits}/{length}\")\n",
    "print(f\"Proportion (%): {os_accuracies}\")\n",
    "\n"
   ]
  },
  {
   "cell_type": "code",
   "execution_count": 4,
   "metadata": {},
   "outputs": [
    {
     "name": "stdout",
     "output_type": "stream",
     "text": [
      "Use case: app\n",
      "Tensorflow: tf_vs_real_hits: 500, tf_vs_real_accuracy: 1.0\n",
      "P4 versus TF Similarity: [483, 500, 500, 500, 500]/500\n",
      "Proportion (%): [96.6, 100.0, 100.0, 100.0, 100.0]\n",
      "P4 versus Real Accuracy: [483, 500, 500, 500, 500]/500\n",
      "Proportion (%): [96.6, 100.0, 100.0, 100.0, 100.0]\n"
     ]
    }
   ],
   "source": [
    "print(\"Use case: app\")\n",
    "#get data\n",
    "df_real = df_real_app\n",
    "length = len(df_real)\n",
    "df_tf = df_tf_app_q16_16\n",
    "df_p4_app_array = [df_p4_app_q4_4[\"s126_data_2\"], df_p4_app_q5_5[\"s126_data_2\"], df_p4_app_q6_6[\"s126_data_2\"], df_p4_app_q7_7[\"s126_data_2\"], df_p4_app_q8_8[\"s126_data_2\"]]\n",
    "# #############################\n",
    "#Calculate TF performance\n",
    "tf_vs_real_hits = (df_real[\"0\"] == df_tf[\"tf_predictions\"]).sum()\n",
    "tf_vs_real_accuracy = tf_vs_real_hits / length\n",
    "print(f\"Tensorflow: tf_vs_real_hits: {tf_vs_real_hits}, tf_vs_real_accuracy: {tf_vs_real_accuracy}\")\n",
    "# #############################\n",
    "#Calculate P4 performance over TF with varying representations\n",
    "app_vs_tf_hits = []\n",
    "app_vs_real_hits = []\n",
    "for i,rep in enumerate(df_p4_app_array):\n",
    "    if len(df_tf[\"tf_predictions\"]) == len(rep):\n",
    "        app_vs_tf_hits.append(sum(1 for pred, val in zip(df_tf[\"tf_predictions\"], rep) if pred == val))\n",
    "        app_vs_real_hits.append(sum(1 for pred, val in zip(df_real[\"0\"], rep) if pred == val))\n",
    "\n",
    "app_similarities = []\n",
    "for sim in app_vs_tf_hits:\n",
    "    app_similarities.append((sim/length)*100)\n",
    "app_similarities_str = [f'{x:.2f}' for x in app_similarities]\n",
    "\n",
    "app_accuracies = []\n",
    "for acc in app_vs_real_hits:\n",
    "    app_accuracies.append((acc/length)*100)\n",
    "app_accuracies_str = [f'{x:.2f}' for x in app_accuracies]\n",
    "print(f\"P4 versus TF Similarity: {app_vs_tf_hits}/{length}\")\n",
    "print(f\"Proportion (%): {app_similarities}\")\n",
    "print(f\"P4 versus Real Accuracy: {app_vs_real_hits}/{length}\")\n",
    "print(f\"Proportion (%): {app_accuracies}\")"
   ]
  },
  {
   "cell_type": "code",
   "execution_count": 5,
   "metadata": {},
   "outputs": [
    {
     "name": "stdout",
     "output_type": "stream",
     "text": [
      "Use case: iot\n",
      "Tensorflow: tf_vs_real_hits: 1332, tf_vs_real_accuracy: 1.0\n",
      "P4 versus TF Similarity: [1242, 1332, 1332, 1332, 1332]/1332\n",
      "Proportion (%): [93.24324324324324, 100.0, 100.0, 100.0, 100.0]\n",
      "P4 versus Real Accuracy: [1242, 1332, 1332, 1332, 1332]/1332\n",
      "Proportion (%): [93.24324324324324, 100.0, 100.0, 100.0, 100.0]\n"
     ]
    }
   ],
   "source": [
    "print(\"Use case: iot\")\n",
    "#get data\n",
    "df_real = df_real_iot\n",
    "length = len(df_real)\n",
    "df_tf = df_tf_iot_q16_16\n",
    "df_p4_iot_array = [df_p4_iot_q4_4[\"s126_data_2\"], df_p4_iot_q5_5[\"s126_data_2\"], df_p4_iot_q6_6[\"s126_data_2\"], df_p4_iot_q7_7[\"s126_data_2\"], df_p4_iot_q8_8[\"s126_data_2\"]]\n",
    "# #############################\n",
    "#Calculate TF performance\n",
    "tf_vs_real_hits = (df_real[\"0\"] == df_tf[\"tf_predictions\"]).sum()\n",
    "tf_vs_real_accuracy = tf_vs_real_hits / length\n",
    "print(f\"Tensorflow: tf_vs_real_hits: {tf_vs_real_hits}, tf_vs_real_accuracy: {tf_vs_real_accuracy}\")\n",
    "# #############################\n",
    "#Calculate P4 performance over TF with varying representations\n",
    "iot_vs_tf_hits = []\n",
    "iot_vs_real_hits = []\n",
    "for i,rep in enumerate(df_p4_iot_array):\n",
    "    if len(df_tf[\"tf_predictions\"]) == len(rep):\n",
    "        iot_vs_tf_hits.append(sum(1 for pred, val in zip(df_tf[\"tf_predictions\"], rep) if pred == val))\n",
    "        iot_vs_real_hits.append(sum(1 for pred, val in zip(df_real[\"0\"], rep) if pred == val))\n",
    "\n",
    "iot_similarities = []\n",
    "for sim in iot_vs_tf_hits:\n",
    "    iot_similarities.append((sim/length)*100)\n",
    "iot_similarities_str = [f'{x:.2f}' for x in iot_similarities]\n",
    "\n",
    "iot_accuracies = []\n",
    "for acc in iot_vs_real_hits:\n",
    "    iot_accuracies.append((acc/length)*100)\n",
    "iot_accuracies_str = [f'{x:.2f}' for x in iot_accuracies]\n",
    "print(f\"P4 versus TF Similarity: {iot_vs_tf_hits}/{length}\")\n",
    "print(f\"Proportion (%): {iot_similarities}\")\n",
    "print(f\"P4 versus Real Accuracy: {iot_vs_real_hits}/{length}\")\n",
    "print(f\"Proportion (%): {iot_accuracies}\")"
   ]
  },
  {
   "cell_type": "code",
   "execution_count": 6,
   "metadata": {
    "editable": true,
    "slideshow": {
     "slide_type": ""
    },
    "tags": []
   },
   "outputs": [
    {
     "name": "stdout",
     "output_type": "stream",
     "text": [
      "Use case: country\n",
      "Tensorflow: tf_vs_real_hits: 53, tf_vs_real_accuracy: 0.8833333333333333\n",
      "P4 versus TF Similarity: [60, 60, 60, 60, 60]/60\n",
      "Proportion (%): [100.0, 100.0, 100.0, 100.0, 100.0]\n",
      "P4 versus Real Accuracy: [53, 53, 53, 53, 53]/60\n",
      "Proportion (%): [88.33333333333333, 88.33333333333333, 88.33333333333333, 88.33333333333333, 88.33333333333333]\n"
     ]
    }
   ],
   "source": [
    "print(\"Use case: country\")\n",
    "#get data\n",
    "df_real = df_real_country\n",
    "length = len(df_real)\n",
    "df_tf = df_tf_country_q16_16\n",
    "df_p4_country_array = [df_p4_country_q4_4[\"s126_data_2\"], df_p4_country_q5_5[\"s126_data_2\"], df_p4_country_q6_6[\"s126_data_2\"], df_p4_country_q7_7[\"s126_data_2\"], df_p4_country_q8_8[\"s126_data_2\"]]\n",
    "# #############################\n",
    "#Calculate TF performance\n",
    "tf_vs_real_hits = (df_real[\"0\"] == df_tf[\"tf_predictions\"]).sum()\n",
    "tf_vs_real_accuracy = tf_vs_real_hits / length\n",
    "print(f\"Tensorflow: tf_vs_real_hits: {tf_vs_real_hits}, tf_vs_real_accuracy: {tf_vs_real_accuracy}\")\n",
    "# #############################\n",
    "#Calculate P4 performance over TF with varying representations\n",
    "country_vs_tf_hits = []\n",
    "country_vs_real_hits = []\n",
    "for i,rep in enumerate(df_p4_country_array):\n",
    "    if len(df_tf[\"tf_predictions\"]) == len(rep):\n",
    "        country_vs_tf_hits.append(sum(1 for pred, val in zip(df_tf[\"tf_predictions\"], rep) if pred == val))\n",
    "        country_vs_real_hits.append(sum(1 for pred, val in zip(df_real[\"0\"], rep) if pred == val))\n",
    "\n",
    "country_similarities = []\n",
    "for sim in country_vs_tf_hits:\n",
    "    country_similarities.append((sim/length)*100)\n",
    "country_similarities_str = [f'{x:.2f}' for x in country_similarities]\n",
    "\n",
    "country_accuracies = []\n",
    "for acc in country_vs_real_hits:\n",
    "    country_accuracies.append((acc/length)*100)\n",
    "country_accuracies_str = [f'{x:.2f}' for x in country_accuracies]\n",
    "print(f\"P4 versus TF Similarity: {country_vs_tf_hits}/{length}\")\n",
    "print(f\"Proportion (%): {country_similarities}\")\n",
    "print(f\"P4 versus Real Accuracy: {country_vs_real_hits}/{length}\")\n",
    "print(f\"Proportion (%): {country_accuracies}\")"
   ]
  },
  {
   "cell_type": "code",
   "execution_count": 8,
   "metadata": {},
   "outputs": [
    {
     "name": "stdout",
     "output_type": "stream",
     "text": [
      "os:  [64.51612903225806, 93.81720430107528, 100.0, 100.0, 100.0]\n",
      "app:  [96.6, 100.0, 100.0, 100.0, 100.0]\n",
      "coutry:  [100.0, 100.0, 100.0, 100.0, 100.0]\n",
      "iot:  [93.24324324324324, 100.0, 100.0, 100.0, 100.0]\n"
     ]
    },
    {
     "data": {
      "image/png": "[encoded data removed]",
      "text/plain": [
       "<Figure size 600x400 with 1 Axes>"
      ]
     },
     "metadata": {},
     "output_type": "display_data"
    },
    {
     "data": {
      "image/png": "[encoded data removed]",
      "text/plain": [
       "<Figure size 400x300 with 1 Axes>"
      ]
     },
     "metadata": {},
     "output_type": "display_data"
    }
   ],
   "source": [
    "bitsize = [\"Q4.4\",\"Q5.5\",\"Q6.6\",\"Q7.7\",\"Q8.8\"]\n",
    "\n",
    "print(\"os: \",os_similarities)\n",
    "print(\"app: \",app_similarities)\n",
    "print(\"coutry: \",country_similarities)\n",
    "print(\"iot: \",iot_similarities)\n",
    "\n",
    "plt.figure(figsize=[6, 4])\n",
    "plt.plot(bitsize, os_similarities, color=\"deepskyblue\", label=\"OS Similarities\")\n",
    "plt.plot(bitsize, app_similarities, color=\"green\", label=\"App Similarities\")\n",
    "plt.plot(bitsize, iot_similarities, color=\"orange\", label=\"IoT Similarities\")\n",
    "plt.plot(bitsize, country_similarities, color=\"red\", label=\"Country Similarities\")\n",
    "\n",
    "plt.xlabel(\"Bit Size\")\n",
    "plt.ylabel(\"Similarity\")\n",
    "\n",
    "plt.title(\"Similarities vs Bit Size\")\n",
    "plt.legend()\n",
    "plt.grid(True)\n",
    "plt.show()\n",
    "\n",
    "plt.figure(figsize=[4, 3])\n",
    "plt.plot(bitsize, os_accuracies, color=\"deepskyblue\", label=\"OS accuracies\")\n",
    "plt.plot(bitsize, app_accuracies, color=\"green\", label=\"App accuracies\")\n",
    "plt.plot(bitsize, iot_accuracies, color=\"orange\", label=\"IoT accuracies\")\n",
    "plt.plot(bitsize, country_accuracies, color=\"red\", label=\"Country accuracies\")\n",
    "\n",
    "plt.xlabel(\"Bit Size\")\n",
    "plt.ylabel(\"Accuracy\")\n",
    "\n",
    "plt.title(\"accuracies vs Bit Size\")\n",
    "plt.legend()\n",
    "plt.grid(True)\n",
    "plt.show()"
   ]
  },
  {
   "cell_type": "code",
   "execution_count": 3,
   "metadata": {},
   "outputs": [
    {
     "name": "stdout",
     "output_type": "stream",
     "text": [
      "Use case: video\n",
      "q16_16\n",
      "TF\n",
      "tf_vs_real_hits:  358 tf_vs_real_accuracy:  0.48840381991814463\n",
      "P4\n",
      "p4_vs_real_hits:  308 p4_vs_real_accuracy:  0.4201909959072306\n",
      "p4_vs_tf_hits:  421 p4_vs_tf_accuracy:  0.5743519781718963\n",
      "q8_8\n",
      "TF\n",
      "tf_vs_real_hits:  327 tf_vs_real_accuracy:  0.4461118690313779\n",
      "P4\n",
      "p4_vs_real_hits:  189 p4_vs_real_accuracy:  0.2578444747612551\n",
      "p4_vs_tf_hits:  286 p4_vs_tf_accuracy:  0.39017735334242837\n"
     ]
    }
   ],
   "source": [
    "print(\"Use case: video\")\n",
    "print(\"q16_16\")\n",
    "df_real = df_real_video\n",
    "df_tf = df_tf_video_q16_16\n",
    "df_p4 = df_p4_video_q16_16\n",
    "#############################\n",
    "tf_vs_real_hits = (df_real[\"0\"] == df_tf[\"tf_predictions\"]).sum()\n",
    "tf_vs_real_accuracy = tf_vs_real_hits / len(df_real)\n",
    "print(\"TF\")\n",
    "print(\"tf_vs_real_hits: \",tf_vs_real_hits, \"tf_vs_real_accuracy: \", tf_vs_real_accuracy)\n",
    "###############################################\n",
    "p4_vs_tf_hits = (df_tf[\"tf_predictions\"] == df_p4[\"s126_data_2\"]).sum()\n",
    "p4_vs_real_hits = (df_real[\"0\"] == df_p4[\"s126_data_2\"]).sum()\n",
    "p4_vs_real_accuracy = p4_vs_real_hits / len(df_real)\n",
    "p4_vs_tf_accuracy = p4_vs_tf_hits / len(df_real)\n",
    "print(\"P4\")\n",
    "print(\"p4_vs_real_hits: \", p4_vs_real_hits, \"p4_vs_real_accuracy: \", p4_vs_real_accuracy)\n",
    "print(\"p4_vs_tf_hits: \", p4_vs_tf_hits, \"p4_vs_tf_accuracy: \", p4_vs_tf_accuracy)\n",
    "###############################################\n",
    "\n",
    "# print(\"q12_12\")\n",
    "# df_real = df_real_video\n",
    "# df_tf = df_tf_video_q12_12\n",
    "# df_p4 = df_p4_video_q12_12\n",
    "# #############################\n",
    "# tf_vs_real_hits = (df_real[\"0\"] == df_tf[\"tf_predictions\"]).sum()\n",
    "# tf_vs_real_accuracy = tf_vs_real_hits / len(df_real)\n",
    "# print(\"TF\")\n",
    "# print(\"tf_vs_real_hits: \",tf_vs_real_hits, \"tf_vs_real_accuracy: \", tf_vs_real_accuracy)\n",
    "# ###############################################\n",
    "# p4_vs_tf_hits = (df_tf[\"tf_predictions\"] == df_p4[\"s126_data_2\"]).sum()\n",
    "# p4_vs_real_hits = (df_real[\"0\"] == df_p4[\"s126_data_2\"]).sum()\n",
    "# p4_vs_real_accuracy = p4_vs_real_hits / len(df_real)\n",
    "# p4_vs_tf_accuracy = p4_vs_tf_hits / len(df_real)\n",
    "# print(\"P4\")\n",
    "# print(\"p4_vs_real_hits: \", p4_vs_real_hits, \"p4_vs_real_accuracy: \", p4_vs_real_accuracy)\n",
    "# print(\"p4_vs_tf_hits: \", p4_vs_tf_hits, \"p4_vs_tf_accuracy: \", p4_vs_tf_accuracy)\n",
    "# ###############################################\n",
    "\n",
    "print(\"q8_8\")\n",
    "df_real = df_real_video\n",
    "df_tf = df_tf_video_q8_8\n",
    "df_p4 = df_p4_video_q8_8\n",
    "#############################\n",
    "tf_vs_real_hits = (df_real[\"0\"] == df_tf[\"tf_predictions\"]).sum()\n",
    "tf_vs_real_accuracy = tf_vs_real_hits / len(df_real)\n",
    "print(\"TF\")\n",
    "print(\"tf_vs_real_hits: \",tf_vs_real_hits, \"tf_vs_real_accuracy: \", tf_vs_real_accuracy)\n",
    "###############################################\n",
    "p4_vs_tf_hits = (df_tf[\"tf_predictions\"] == df_p4[\"s126_data_2\"]).sum()\n",
    "p4_vs_real_hits = (df_real[\"0\"] == df_p4[\"s126_data_2\"]).sum()\n",
    "p4_vs_real_accuracy = p4_vs_real_hits / len(df_real)\n",
    "p4_vs_tf_accuracy = p4_vs_tf_hits / len(df_real)\n",
    "print(\"P4\")\n",
    "print(\"p4_vs_real_hits: \", p4_vs_real_hits, \"p4_vs_real_accuracy: \", p4_vs_real_accuracy)\n",
    "print(\"p4_vs_tf_hits: \", p4_vs_tf_hits, \"p4_vs_tf_accuracy: \", p4_vs_tf_accuracy)\n",
    "###############################################"
   ]
  },
  {
   "cell_type": "code",
   "execution_count": 29,
   "metadata": {},
   "outputs": [
    {
     "name": "stdout",
     "output_type": "stream",
     "text": [
      "Use case: country\n",
      "q16_16\n",
      "TF\n",
      "tf_vs_real_hits:  53 tf_vs_real_accuracy:  0.8833333333333333\n",
      "P4\n",
      "p4_vs_real_hits:  53 p4_vs_real_accuracy:  0.8833333333333333\n",
      "p4_vs_tf_hits:  60 p4_vs_tf_accuracy:  1.0\n",
      "q12_12\n",
      "TF\n",
      "tf_vs_real_hits:  53 tf_vs_real_accuracy:  0.8833333333333333\n",
      "P4\n",
      "p4_vs_real_hits:  53 p4_vs_real_accuracy:  0.8833333333333333\n",
      "p4_vs_tf_hits:  60 p4_vs_tf_accuracy:  1.0\n",
      "q8_8\n",
      "TF\n",
      "tf_vs_real_hits:  53 tf_vs_real_accuracy:  0.8833333333333333\n",
      "P4\n",
      "p4_vs_real_hits:  53 p4_vs_real_accuracy:  0.8833333333333333\n",
      "p4_vs_tf_hits:  60 p4_vs_tf_accuracy:  1.0\n"
     ]
    }
   ],
   "source": [
    "print(\"Use case: country\")\n",
    "print(\"q16_16\")\n",
    "df_real = df_real_country\n",
    "df_tf = df_tf_country_q16_16\n",
    "df_p4 = df_p4_country_q16_16\n",
    "#############################\n",
    "tf_vs_real_hits = (df_real[\"0\"] == df_tf[\"tf_predictions\"]).sum()\n",
    "tf_vs_real_accuracy = tf_vs_real_hits / len(df_real)\n",
    "print(\"TF\")\n",
    "print(\"tf_vs_real_hits: \",tf_vs_real_hits, \"tf_vs_real_accuracy: \", tf_vs_real_accuracy)\n",
    "###############################################\n",
    "p4_vs_tf_hits = (df_tf[\"tf_predictions\"] == df_p4[\"s126_data_2\"]).sum()\n",
    "p4_vs_real_hits = (df_real[\"0\"] == df_p4[\"s126_data_2\"]).sum()\n",
    "p4_vs_real_accuracy = p4_vs_real_hits / len(df_real)\n",
    "p4_vs_tf_accuracy = p4_vs_tf_hits / len(df_real)\n",
    "print(\"P4\")\n",
    "print(\"p4_vs_real_hits: \", p4_vs_real_hits, \"p4_vs_real_accuracy: \", p4_vs_real_accuracy)\n",
    "print(\"p4_vs_tf_hits: \", p4_vs_tf_hits, \"p4_vs_tf_accuracy: \", p4_vs_tf_accuracy)\n",
    "###############################################\n",
    "\n",
    "print(\"q12_12\")\n",
    "df_real = df_real_country\n",
    "df_tf = df_tf_country_q12_12\n",
    "df_p4 = df_p4_country_q12_12\n",
    "#############################\n",
    "tf_vs_real_hits = (df_real[\"0\"] == df_tf[\"tf_predictions\"]).sum()\n",
    "tf_vs_real_accuracy = tf_vs_real_hits / len(df_real)\n",
    "print(\"TF\")\n",
    "print(\"tf_vs_real_hits: \",tf_vs_real_hits, \"tf_vs_real_accuracy: \", tf_vs_real_accuracy)\n",
    "###############################################\n",
    "p4_vs_tf_hits = (df_tf[\"tf_predictions\"] == df_p4[\"s126_data_2\"]).sum()\n",
    "p4_vs_real_hits = (df_real[\"0\"] == df_p4[\"s126_data_2\"]).sum()\n",
    "p4_vs_real_accuracy = p4_vs_real_hits / len(df_real)\n",
    "p4_vs_tf_accuracy = p4_vs_tf_hits / len(df_real)\n",
    "print(\"P4\")\n",
    "print(\"p4_vs_real_hits: \", p4_vs_real_hits, \"p4_vs_real_accuracy: \", p4_vs_real_accuracy)\n",
    "print(\"p4_vs_tf_hits: \", p4_vs_tf_hits, \"p4_vs_tf_accuracy: \", p4_vs_tf_accuracy)\n",
    "###############################################\n",
    "\n",
    "print(\"q8_8\")\n",
    "df_real = df_real_country\n",
    "df_tf = df_tf_country_q8_8\n",
    "df_p4 = df_p4_country_q8_8\n",
    "#############################\n",
    "tf_vs_real_hits = (df_real[\"0\"] == df_tf[\"tf_predictions\"]).sum()\n",
    "tf_vs_real_accuracy = tf_vs_real_hits / len(df_real)\n",
    "print(\"TF\")\n",
    "print(\"tf_vs_real_hits: \",tf_vs_real_hits, \"tf_vs_real_accuracy: \", tf_vs_real_accuracy)\n",
    "###############################################\n",
    "p4_vs_tf_hits = (df_tf[\"tf_predictions\"] == df_p4[\"s126_data_2\"]).sum()\n",
    "p4_vs_real_hits = (df_real[\"0\"] == df_p4[\"s126_data_2\"]).sum()\n",
    "p4_vs_real_accuracy = p4_vs_real_hits / len(df_real)\n",
    "p4_vs_tf_accuracy = p4_vs_tf_hits / len(df_real)\n",
    "print(\"P4\")\n",
    "print(\"p4_vs_real_hits: \", p4_vs_real_hits, \"p4_vs_real_accuracy: \", p4_vs_real_accuracy)\n",
    "print(\"p4_vs_tf_hits: \", p4_vs_tf_hits, \"p4_vs_tf_accuracy: \", p4_vs_tf_accuracy)\n",
    "###############################################"
   ]
  },
  {
   "cell_type": "code",
   "execution_count": 31,
   "metadata": {},
   "outputs": [
    {
     "name": "stdout",
     "output_type": "stream",
     "text": [
      "Use case: iot\n",
      "q16_16\n",
      "TF\n",
      "tf_vs_real_hits:  1332 tf_vs_real_accuracy:  1.0\n",
      "P4\n",
      "p4_vs_real_hits:  1332 p4_vs_real_accuracy:  1.0\n",
      "p4_vs_tf_hits:  1332 p4_vs_tf_accuracy:  1.0\n",
      "q12_12\n",
      "TF\n",
      "tf_vs_real_hits:  1332 tf_vs_real_accuracy:  1.0\n",
      "P4\n",
      "p4_vs_real_hits:  1332 p4_vs_real_accuracy:  1.0\n",
      "p4_vs_tf_hits:  1332 p4_vs_tf_accuracy:  1.0\n",
      "q8_8\n",
      "TF\n",
      "tf_vs_real_hits:  1332 tf_vs_real_accuracy:  1.0\n",
      "P4\n",
      "p4_vs_real_hits:  1332 p4_vs_real_accuracy:  1.0\n",
      "p4_vs_tf_hits:  1332 p4_vs_tf_accuracy:  1.0\n"
     ]
    }
   ],
   "source": [
    "print(\"Use case: iot\")\n",
    "print(\"q16_16\")\n",
    "df_real = df_real_iot\n",
    "df_tf = df_tf_iot_q16_16\n",
    "df_p4 = df_p4_iot_q16_16\n",
    "#############################\n",
    "tf_vs_real_hits = (df_real[\"0\"] == df_tf[\"tf_predictions\"]).sum()\n",
    "tf_vs_real_accuracy = tf_vs_real_hits / len(df_real)\n",
    "print(\"TF\")\n",
    "print(\"tf_vs_real_hits: \",tf_vs_real_hits, \"tf_vs_real_accuracy: \", tf_vs_real_accuracy)\n",
    "###############################################\n",
    "p4_vs_tf_hits = (df_tf[\"tf_predictions\"] == df_p4[\"s126_data_2\"]).sum()\n",
    "p4_vs_real_hits = (df_real[\"0\"] == df_p4[\"s126_data_2\"]).sum()\n",
    "p4_vs_real_accuracy = p4_vs_real_hits / len(df_real)\n",
    "p4_vs_tf_accuracy = p4_vs_tf_hits / len(df_real)\n",
    "print(\"P4\")\n",
    "print(\"p4_vs_real_hits: \", p4_vs_real_hits, \"p4_vs_real_accuracy: \", p4_vs_real_accuracy)\n",
    "print(\"p4_vs_tf_hits: \", p4_vs_tf_hits, \"p4_vs_tf_accuracy: \", p4_vs_tf_accuracy)\n",
    "###############################################\n",
    "\n",
    "print(\"q12_12\")\n",
    "df_real = df_real_iot\n",
    "df_tf = df_tf_iot_q12_12\n",
    "df_p4 = df_p4_iot_q12_12\n",
    "#############################\n",
    "tf_vs_real_hits = (df_real[\"0\"] == df_tf[\"tf_predictions\"]).sum()\n",
    "tf_vs_real_accuracy = tf_vs_real_hits / len(df_real)\n",
    "print(\"TF\")\n",
    "print(\"tf_vs_real_hits: \",tf_vs_real_hits, \"tf_vs_real_accuracy: \", tf_vs_real_accuracy)\n",
    "###############################################\n",
    "p4_vs_tf_hits = (df_tf[\"tf_predictions\"] == df_p4[\"s126_data_2\"]).sum()\n",
    "p4_vs_real_hits = (df_real[\"0\"] == df_p4[\"s126_data_2\"]).sum()\n",
    "p4_vs_real_accuracy = p4_vs_real_hits / len(df_real)\n",
    "p4_vs_tf_accuracy = p4_vs_tf_hits / len(df_real)\n",
    "print(\"P4\")\n",
    "print(\"p4_vs_real_hits: \", p4_vs_real_hits, \"p4_vs_real_accuracy: \", p4_vs_real_accuracy)\n",
    "print(\"p4_vs_tf_hits: \", p4_vs_tf_hits, \"p4_vs_tf_accuracy: \", p4_vs_tf_accuracy)\n",
    "###############################################\n",
    "\n",
    "print(\"q8_8\")\n",
    "df_real = df_real_iot\n",
    "df_tf = df_tf_iot_q8_8\n",
    "df_p4 = df_p4_iot_q8_8\n",
    "#############################\n",
    "tf_vs_real_hits = (df_real[\"0\"] == df_tf[\"tf_predictions\"]).sum()\n",
    "tf_vs_real_accuracy = tf_vs_real_hits / len(df_real)\n",
    "print(\"TF\")\n",
    "print(\"tf_vs_real_hits: \",tf_vs_real_hits, \"tf_vs_real_accuracy: \", tf_vs_real_accuracy)\n",
    "###############################################\n",
    "p4_vs_tf_hits = (df_tf[\"tf_predictions\"] == df_p4[\"s126_data_2\"]).sum()\n",
    "p4_vs_real_hits = (df_real[\"0\"] == df_p4[\"s126_data_2\"]).sum()\n",
    "p4_vs_real_accuracy = p4_vs_real_hits / len(df_real)\n",
    "p4_vs_tf_accuracy = p4_vs_tf_hits / len(df_real)\n",
    "print(\"P4\")\n",
    "print(\"p4_vs_real_hits: \", p4_vs_real_hits, \"p4_vs_real_accuracy: \", p4_vs_real_accuracy)\n",
    "print(\"p4_vs_tf_hits: \", p4_vs_tf_hits, \"p4_vs_tf_accuracy: \", p4_vs_tf_accuracy)\n",
    "###############################################"
   ]
  },
  {
   "cell_type": "code",
   "execution_count": 32,
   "metadata": {},
   "outputs": [
    {
     "name": "stdout",
     "output_type": "stream",
     "text": [
      "Use case: app\n",
      "q16_16\n",
      "TF\n",
      "tf_vs_real_hits:  500 tf_vs_real_accuracy:  1.0\n",
      "P4\n",
      "p4_vs_real_hits:  500 p4_vs_real_accuracy:  1.0\n",
      "p4_vs_tf_hits:  500 p4_vs_tf_accuracy:  1.0\n",
      "q12_12\n",
      "TF\n",
      "tf_vs_real_hits:  500 tf_vs_real_accuracy:  1.0\n",
      "P4\n",
      "p4_vs_real_hits:  500 p4_vs_real_accuracy:  1.0\n",
      "p4_vs_tf_hits:  500 p4_vs_tf_accuracy:  1.0\n",
      "q8_8\n",
      "TF\n",
      "tf_vs_real_hits:  500 tf_vs_real_accuracy:  1.0\n",
      "P4\n",
      "p4_vs_real_hits:  500 p4_vs_real_accuracy:  1.0\n",
      "p4_vs_tf_hits:  500 p4_vs_tf_accuracy:  1.0\n"
     ]
    }
   ],
   "source": [
    "print(\"Use case: app\")\n",
    "print(\"q16_16\")\n",
    "df_real = df_real_app\n",
    "df_tf = df_tf_app_q16_16\n",
    "df_p4 = df_p4_app_q16_16\n",
    "#############################\n",
    "tf_vs_real_hits = (df_real[\"0\"] == df_tf[\"tf_predictions\"]).sum()\n",
    "tf_vs_real_accuracy = tf_vs_real_hits / len(df_real)\n",
    "print(\"TF\")\n",
    "print(\"tf_vs_real_hits: \",tf_vs_real_hits, \"tf_vs_real_accuracy: \", tf_vs_real_accuracy)\n",
    "###############################################\n",
    "p4_vs_tf_hits = (df_tf[\"tf_predictions\"] == df_p4[\"s126_data_2\"]).sum()\n",
    "p4_vs_real_hits = (df_real[\"0\"] == df_p4[\"s126_data_2\"]).sum()\n",
    "p4_vs_real_accuracy = p4_vs_real_hits / len(df_real)\n",
    "p4_vs_tf_accuracy = p4_vs_tf_hits / len(df_real)\n",
    "print(\"P4\")\n",
    "print(\"p4_vs_real_hits: \", p4_vs_real_hits, \"p4_vs_real_accuracy: \", p4_vs_real_accuracy)\n",
    "print(\"p4_vs_tf_hits: \", p4_vs_tf_hits, \"p4_vs_tf_accuracy: \", p4_vs_tf_accuracy)\n",
    "###############################################\n",
    "\n",
    "print(\"q12_12\")\n",
    "df_real = df_real_app\n",
    "df_tf = df_tf_app_q12_12\n",
    "df_p4 = df_p4_app_q12_12\n",
    "#############################\n",
    "tf_vs_real_hits = (df_real[\"0\"] == df_tf[\"tf_predictions\"]).sum()\n",
    "tf_vs_real_accuracy = tf_vs_real_hits / len(df_real)\n",
    "print(\"TF\")\n",
    "print(\"tf_vs_real_hits: \",tf_vs_real_hits, \"tf_vs_real_accuracy: \", tf_vs_real_accuracy)\n",
    "###############################################\n",
    "p4_vs_tf_hits = (df_tf[\"tf_predictions\"] == df_p4[\"s126_data_2\"]).sum()\n",
    "p4_vs_real_hits = (df_real[\"0\"] == df_p4[\"s126_data_2\"]).sum()\n",
    "p4_vs_real_accuracy = p4_vs_real_hits / len(df_real)\n",
    "p4_vs_tf_accuracy = p4_vs_tf_hits / len(df_real)\n",
    "print(\"P4\")\n",
    "print(\"p4_vs_real_hits: \", p4_vs_real_hits, \"p4_vs_real_accuracy: \", p4_vs_real_accuracy)\n",
    "print(\"p4_vs_tf_hits: \", p4_vs_tf_hits, \"p4_vs_tf_accuracy: \", p4_vs_tf_accuracy)\n",
    "###############################################\n",
    "\n",
    "print(\"q8_8\")\n",
    "df_real = df_real_app\n",
    "df_tf = df_tf_app_q8_8\n",
    "df_p4 = df_p4_app_q8_8\n",
    "#############################\n",
    "tf_vs_real_hits = (df_real[\"0\"] == df_tf[\"tf_predictions\"]).sum()\n",
    "tf_vs_real_accuracy = tf_vs_real_hits / len(df_real)\n",
    "print(\"TF\")\n",
    "print(\"tf_vs_real_hits: \",tf_vs_real_hits, \"tf_vs_real_accuracy: \", tf_vs_real_accuracy)\n",
    "###############################################\n",
    "p4_vs_tf_hits = (df_tf[\"tf_predictions\"] == df_p4[\"s126_data_2\"]).sum()\n",
    "p4_vs_real_hits = (df_real[\"0\"] == df_p4[\"s126_data_2\"]).sum()\n",
    "p4_vs_real_accuracy = p4_vs_real_hits / len(df_real)\n",
    "p4_vs_tf_accuracy = p4_vs_tf_hits / len(df_real)\n",
    "print(\"P4\")\n",
    "print(\"p4_vs_real_hits: \", p4_vs_real_hits, \"p4_vs_real_accuracy: \", p4_vs_real_accuracy)\n",
    "print(\"p4_vs_tf_hits: \", p4_vs_tf_hits, \"p4_vs_tf_accuracy: \", p4_vs_tf_accuracy)\n",
    "###############################################"
   ]
  },
  {
   "cell_type": "code",
   "execution_count": null,
   "metadata": {
    "colab": {
     "base_uri": "https://localhost:8080/",
     "height": 257
    },
    "executionInfo": {
     "elapsed": 269,
     "status": "ok",
     "timestamp": 1693247546316,
     "user": {
      "displayName": "Vicente Lessa",
      "userId": "14551761473643883791"
     },
     "user_tz": 180
    },
    "id": "9TL0l83KpI4K",
    "outputId": "5b4c4990-0c8e-4663-bf22-d50434888659"
   },
   "outputs": [
    {
     "name": "stdout",
     "output_type": "stream",
     "text": [
      "P4 Fractional Multiplication Q16.16\n"
     ]
    },
    {
     "data": {
      "application/vnd.google.colaboratory.intrinsic+json": {
       "type": "string"
      },
      "text/plain": [
       "'mean_error_1st_column: 0.0049213213692523156'"
      ]
     },
     "metadata": {},
     "output_type": "display_data"
    },
    {
     "data": {
      "application/vnd.google.colaboratory.intrinsic+json": {
       "type": "string"
      },
      "text/plain": [
       "'mean_error_2nd_column: 0.004627927168751968'"
      ]
     },
     "metadata": {},
     "output_type": "display_data"
    },
    {
     "data": {
      "application/vnd.google.colaboratory.intrinsic+json": {
       "type": "string"
      },
      "text/plain": [
       "'std_error_1st_column: 0.006769036460989731'"
      ]
     },
     "metadata": {},
     "output_type": "display_data"
    },
    {
     "data": {
      "application/vnd.google.colaboratory.intrinsic+json": {
       "type": "string"
      },
      "text/plain": [
       "'std_error_2nd_column: 0.006769036460989731'"
      ]
     },
     "metadata": {},
     "output_type": "display_data"
    },
    {
     "name": "stdout",
     "output_type": "stream",
     "text": [
      "max:  0.04206170898437733 min:  0.0\n",
      "\n",
      "P4 Normalization tables Q16.16\n"
     ]
    },
    {
     "data": {
      "application/vnd.google.colaboratory.intrinsic+json": {
       "type": "string"
      },
      "text/plain": [
       "'mean_error_1st_column: 0.00017311049990657084'"
      ]
     },
     "metadata": {},
     "output_type": "display_data"
    },
    {
     "data": {
      "application/vnd.google.colaboratory.intrinsic+json": {
       "type": "string"
      },
      "text/plain": [
       "'mean_error_2nd_column: 0.00015758813800007205'"
      ]
     },
     "metadata": {},
     "output_type": "display_data"
    },
    {
     "data": {
      "application/vnd.google.colaboratory.intrinsic+json": {
       "type": "string"
      },
      "text/plain": [
       "'std_error_1st_column: 0.0001882686062938295'"
      ]
     },
     "metadata": {},
     "output_type": "display_data"
    },
    {
     "data": {
      "application/vnd.google.colaboratory.intrinsic+json": {
       "type": "string"
      },
      "text/plain": [
       "'std_error_2nd_column: 0.0001882686062938295'"
      ]
     },
     "metadata": {},
     "output_type": "display_data"
    },
    {
     "name": "stdout",
     "output_type": "stream",
     "text": [
      "max:  0.0008079248046897192 min:  0.0\n"
     ]
    }
   ],
   "source": [
    "tf_probabilities_list = df_tf.values.tolist()\n",
    "\n",
    "p4_q16_16_frac_mult_probabilities_list = df_q16_16.values.tolist()\n",
    "differences = np.zeros((df_q16_16.shape[0], df_q16_16.shape[1]))\n",
    "\n",
    "\n",
    "for i in range(df_q16_16.shape[0]):\n",
    "  for j in range(df_q16_16.shape[1]):\n",
    "    differences[i][j] = abs(p4_q16_16_frac_mult_probabilities_list[i][j] - tf_probabilities_list[i][j])\n",
    "\n",
    "#display(differences[:,1])\n",
    "mean_error_1st_column = sum(differences[:,1])/len(differences[:,1])\n",
    "mean_error_2nd_column  = sum(differences[:,2])/len(differences[:,2])\n",
    "std_error_1st_column = np.std(differences[:,1])\n",
    "std_error_2nd_column = np.std(differences[:,1])\n",
    "print(\"P4 Fractional Multiplication Q16.16\")\n",
    "display(f\"mean_error_1st_column: {mean_error_1st_column}\")\n",
    "display(f\"mean_error_2nd_column: {mean_error_2nd_column}\")\n",
    "display(f\"std_error_1st_column: {std_error_1st_column}\")\n",
    "display(f\"std_error_2nd_column: {std_error_2nd_column}\")\n",
    "\n",
    "max_value = max(differences[0])\n",
    "min_value = min(differences[0])\n",
    "for row in differences[1:]:\n",
    "    max_value = max(max_value, max(row))\n",
    "    min_value = min(min_value, min(row))\n",
    "\n",
    "\n",
    "print(\"max: \",max_value,\"min: \", min_value)\n",
    "df_differences_q16_16_frac_mult = pd.DataFrame(differences)\n",
    "\n",
    "#####\n",
    "\n",
    "p4_q16_16_norm_table_probabilities_list = df_p4_q16_16_norm_table.values.tolist()\n",
    "differences = np.zeros((df_p4_q16_16_norm_table.shape[0], df_p4_q16_16_norm_table.shape[1]))\n",
    "\n",
    "for i in range(df_p4_q16_16_norm_table.shape[0]):\n",
    "  for j in range(df_p4_q16_16_norm_table.shape[1]):\n",
    "    differences[i][j] = abs(p4_q16_16_norm_table_probabilities_list[i][j] - tf_probabilities_list[i][j])\n",
    "\n",
    "mean_error_1st_column = sum(differences[:,1])/len(differences[:,1])\n",
    "mean_error_2nd_column  = sum(differences[:,2])/len(differences[:,2])\n",
    "std_error_1st_column = np.std(differences[:,1])\n",
    "std_error_2nd_column = np.std(differences[:,1])\n",
    "print(\"\\nP4 Normalization tables Q16.16\")\n",
    "display(f\"mean_error_1st_column: {mean_error_1st_column}\")\n",
    "display(f\"mean_error_2nd_column: {mean_error_2nd_column}\")\n",
    "display(f\"std_error_1st_column: {std_error_1st_column}\")\n",
    "display(f\"std_error_2nd_column: {std_error_2nd_column}\")\n",
    "\n",
    "max_value = max(differences[0])\n",
    "min_value = min(differences[0])\n",
    "for row in differences[1:]:\n",
    "    max_value = max(max_value, max(row))\n",
    "    min_value = min(min_value, min(row))\n",
    "\n",
    "\n",
    "print(\"max: \",max_value,\"min: \", min_value)\n",
    "df_differences_q16_16_norm_table = pd.DataFrame(differences)\n"
   ]
  },
  {
   "cell_type": "code",
   "execution_count": null,
   "metadata": {
    "colab": {
     "base_uri": "https://localhost:8080/"
    },
    "executionInfo": {
     "elapsed": 495,
     "status": "ok",
     "timestamp": 1666147292508,
     "user": {
      "displayName": "Vicente Lessa",
      "userId": "14551761473643883791"
     },
     "user_tz": 180
    },
    "id": "-zKd2d3DqGkJ",
    "outputId": "1cccde4f-8244-4da1-8408-b4bff6452fae"
   },
   "outputs": [
    {
     "data": {
      "text/plain": [
       "([<matplotlib.axis.XTick at 0x7f40dce744d0>,\n",
       "  <matplotlib.axis.XTick at 0x7f40dce74490>,\n",
       "  <matplotlib.axis.XTick at 0x7f40dce740d0>,\n",
       "  <matplotlib.axis.XTick at 0x7f40dcdfc690>],\n",
       " <a list of 4 Text major ticklabel objects>)"
      ]
     },
     "execution_count": 5,
     "metadata": {},
     "output_type": "execute_result"
    },
    {
     "data": {
      "image/png": "[encoded data removed]",
      "text/plain": [
       "<Figure size 576x576 with 1 Axes>"
      ]
     },
     "metadata": {
      "needs_background": "light"
     },
     "output_type": "display_data"
    }
   ],
   "source": [
    "#Acurácia\n",
    "y_frac_acc = [p4_vs_real_accuracy, p4_vs_real_accuracy_q16_12, p4_vs_real_accuracy_q16_8, p4_vs_real_accuracy_q16_4]\n",
    "y_int_acc = [p4_vs_real_accuracy, p4_vs_real_accuracy_q12_16, p4_vs_real_accuracy_q8_16]\n",
    "x_frac_bits = [16, 12, 8, 4]\n",
    "x_int_bits = [16, 12, 8]\n",
    "\n",
    "plt.figure(figsize=[8, 8])\n",
    "plt.plot(x_frac_bits, y_frac_acc)\n",
    "plt.plot(x_int_bits, y_int_acc)\n",
    "\n",
    "plt.ylabel('Acurácia de teste')\n",
    "plt.xlabel('Bits de representação')\n",
    "#plt.title('Acurácias de teste para Q16.x e Qx.16')\n",
    "y = [*y_int_acc , *y_frac_acc]\n",
    "\n",
    "for i in y:\n",
    "  plt.axhline(i, color=\"grey\", linestyle=\":\")\n",
    "for i in x_frac_bits:\n",
    "  plt.axvline(i, color=\"grey\", linestyle=\":\")\n",
    "\n",
    "for i,x in enumerate(y_frac_acc):\n",
    "  y_frac_acc[i] = float(\"{0:.4f}\".format(x))\n",
    "for i,x in enumerate(y_int_acc):\n",
    "  y_int_acc[i] = float(\"{0:.4f}\".format(x))\n",
    "\n",
    "y = [*y_int_acc , *y_frac_acc]\n",
    "# a = np.arange(0.785,0.805,0.005)\n",
    "# y = [*a , *y_acc]\n",
    "plt.yticks(y)\n",
    "plt.xticks(x_frac_bits)\n",
    "\n",
    "# now = datetime.now()\n",
    "# dt_string = now.strftime(\"%d-%m-%Y %H:%M:%S\")\n",
    "# title = \"/content/drive/MyDrive/network-traffic-classification-main/nn-reports/Acc_per_frac_bits_%s\"%dt_string + \".pdf\"\n",
    "# plt.savefig(title)\n"
   ]
  },
  {
   "cell_type": "code",
   "execution_count": null,
   "metadata": {
    "colab": {
     "base_uri": "https://localhost:8080/"
    },
    "executionInfo": {
     "elapsed": 336,
     "status": "ok",
     "timestamp": 1666147292841,
     "user": {
      "displayName": "Vicente Lessa",
      "userId": "14551761473643883791"
     },
     "user_tz": 180
    },
    "id": "yyHY8QpEeODz",
    "outputId": "c6425bd1-d30c-41a4-d63b-546a7777a6af"
   },
   "outputs": [
    {
     "data": {
      "image/png": "[encoded data removed]",
      "text/plain": [
       "<Figure size 576x432 with 1 Axes>"
      ]
     },
     "metadata": {
      "needs_background": "light"
     },
     "output_type": "display_data"
    }
   ],
   "source": [
    "#Acurácia\n",
    "y_frac_acc = [p4_vs_real_accuracy_q16_4*100, p4_vs_real_accuracy_q16_8*100, p4_vs_real_accuracy_q16_12*100, p4_vs_real_accuracy*100]\n",
    "y_int_acc = [0,  p4_vs_real_accuracy_q8_16*100, p4_vs_real_accuracy_q12_16*100, p4_vs_real_accuracy*100]\n",
    "X = [\"Q16.4\", \"Q8.16   Q16.8\", \"Q12.16   Q16.12\", \"Q16.16\"]\n",
    "#X = [4, 8, 12, 16]\n",
    "\n",
    "plt.figure(figsize=[8, 6])\n",
    "\n",
    "X_axis = np.arange(len(X))\n",
    "barWidth = 0.3\n",
    "plt.bar(X_axis + 0.2, y_frac_acc, width = barWidth, label ='Q16.x')\n",
    "plt.bar(X_axis - 0.2, y_int_acc, width = barWidth, label ='Qx.16')\n",
    "\n",
    "plt.ylabel('Acurácia de teste (%)')\n",
    "plt.xlabel('Bits de representação')\n",
    "#plt.xlabel('Bits de representação da parte vairável')\n",
    "#plt.title('Acurácias de teste para Q16.x e Qx.16')\n",
    "\n",
    "ab = np.arange(78,80.4,0.25)\n",
    "a = np.arange(78,80.4,0.5)\n",
    "a = np.insert(a,-1,float(\"{0:2.2f}\".format(p4_vs_real_accuracy*100)))\n",
    "\n",
    "plt.yticks(a)\n",
    "plt.xticks(X_axis, X)\n",
    "plt.ylim(78,80.7)\n",
    "for i in ab:\n",
    "  plt.axhline(i, color=\"grey\", linestyle=\":\")\n",
    "\n",
    "plt.axhline(p4_vs_real_accuracy*100, color=\"red\", linestyle=\":\", label = \"Tensorflow\")\n",
    "\n",
    "for index,data in enumerate(y_frac_acc):\n",
    "    if data > 0 :\n",
    "      data = float(\"{0:2.2f}\".format(data))\n",
    "      plt.text(x = index + 0.04,  y = data+0.09, s=f\"{data}\", fontdict=dict(fontsize=12))\n",
    "\n",
    "for index,data in enumerate(y_int_acc):\n",
    "    if data > 0:\n",
    "      data = float(\"{0:2.2f}\".format(data))\n",
    "      plt.text(x = index - 0.37,  y =data+0.09 , s=f\"{data}\", fontdict=dict(fontsize=12))\n",
    "\n",
    "plt.legend(loc=2)\n",
    "\n",
    "now = datetime.now()\n",
    "dt_string = now.strftime(\"%d-%m-%Y %H:%M:%S\")\n",
    "title = \"/content/drive/MyDrive/network-traffic-classification-main/nn-reports/acc_per_bits_%s\"%dt_string + \".pdf\"\n",
    "plt.savefig(title)\n",
    "\n",
    "plt.show()"
   ]
  },
  {
   "cell_type": "code",
   "execution_count": null,
   "metadata": {
    "colab": {
     "base_uri": "https://localhost:8080/"
    },
    "executionInfo": {
     "elapsed": 448,
     "status": "ok",
     "timestamp": 1666147293287,
     "user": {
      "displayName": "Vicente Lessa",
      "userId": "14551761473643883791"
     },
     "user_tz": 180
    },
    "id": "yZSbgM68qbHS",
    "outputId": "70d3b780-5f90-4bb5-f214-387cff07c914"
   },
   "outputs": [
    {
     "data": {
      "image/png": "[encoded data removed]",
      "text/plain": [
       "<Figure size 576x432 with 1 Axes>"
      ]
     },
     "metadata": {
      "needs_background": "light"
     },
     "output_type": "display_data"
    }
   ],
   "source": [
    "#Similaridade externa\n",
    "# y_frac_acc = [p4_vs_tf_accuracy*100, p4_vs_tf_accuracy_q16_12*100, p4_vs_tf_accuracy_q16_8*100, p4_vs_tf_accuracy_q16_4*100]\n",
    "# y_int_acc = [p4_vs_tf_accuracy*100, p4_vs_tf_accuracy_q12_16*100, p4_vs_tf_accuracy_q8_16*100,0]\n",
    "# X = [4, 8, 12, 16]\n",
    "y_frac_acc = [p4_vs_tf_accuracy_q16_4*100, p4_vs_tf_accuracy_q16_8*100, p4_vs_tf_accuracy_q16_12*100, p4_vs_tf_accuracy*100]\n",
    "y_int_acc = [0,  p4_vs_tf_accuracy_q8_16*100, p4_vs_tf_accuracy_q12_16*100, p4_vs_tf_accuracy*100]\n",
    "X = [\"Q16.4\", \"Q8.16   Q16.8\", \"Q12.16   Q16.12\", \"Q16.16\"]\n",
    "\n",
    "plt.figure(figsize=[8, 6])\n",
    "\n",
    "X_axis = np.arange(len(X))\n",
    "barWidth = 0.3\n",
    "plt.bar(X_axis+0.2, y_frac_acc, width = barWidth, label ='Q16.x')\n",
    "plt.bar(X_axis-0.2, y_int_acc, width = barWidth, label ='Qx.16')\n",
    "\n",
    "plt.ylabel('Similaridade (%)')\n",
    "plt.xlabel('Bits de representação.')\n",
    "#plt.title('Similaridade entre a RNA instanciada no ambiente P4 com a RNA instanciada no Tensorflow para Q16.x e Qx.16')\n",
    "\n",
    "a = np.arange(85,101,1)\n",
    "plt.yticks(a)\n",
    "plt.xticks(X_axis, X)\n",
    "plt.ylim(85.5,101)\n",
    "for i in a:\n",
    "  plt.axhline(i, color=\"grey\", linestyle=\":\")\n",
    "\n",
    "for index,data in enumerate(y_frac_acc):\n",
    "    if data > 0 :\n",
    "      data = float(\"{0:2.2f}\".format(data))\n",
    "      plt.text(x = index+0.05,  y =data+0.2 , s=f\"{data}\", fontdict=dict(fontsize=12))\n",
    "\n",
    "for index,data in enumerate(y_int_acc):\n",
    "    if data > 0:\n",
    "      data = float(\"{0:2.2f}\".format(data))\n",
    "      plt.text(x = index-0.35,  y =data+0.2 , s=f\"{data}\", fontdict=dict(fontsize=12))\n",
    "\n",
    "plt.legend(loc=2)\n",
    "\n",
    "now = datetime.now()\n",
    "dt_string = now.strftime(\"%d-%m-%Y %H:%M:%S\")\n",
    "title = \"/content/drive/MyDrive/network-traffic-classification-main/nn-reports/similarity_per_bits_%s\"%dt_string + \".pdf\"\n",
    "plt.savefig(title)\n",
    "\n",
    "plt.show()"
   ]
  },
  {
   "cell_type": "code",
   "execution_count": null,
   "metadata": {
    "colab": {
     "base_uri": "https://localhost:8080/"
    },
    "executionInfo": {
     "elapsed": 2,
     "status": "ok",
     "timestamp": 1693246446350,
     "user": {
      "displayName": "Vicente Lessa",
      "userId": "14551761473643883791"
     },
     "user_tz": 180
    },
    "id": "ZtNPth3cRAXt",
    "outputId": "df7dcd80-e927-498c-deef-d8835e2a3c30"
   },
   "outputs": [
    {
     "name": "stdout",
     "output_type": "stream",
     "text": [
      "P4 Fractional Multiplication Q16.16\n",
      "max:  0.04206170898437733 min:  0.0\n",
      "P4 Normalization tables Q16.16\n",
      "max:  0.0008079248046897192 min:  0.0\n"
     ]
    }
   ],
   "source": [
    "tf_probabilities_list = df_tf.values.tolist()\n",
    "\n",
    "p4_q16_16_frac_mult_probabilities_list = df_q16_16.values.tolist()\n",
    "differences = np.zeros((df_q16_16.shape[0], df_q16_16.shape[1]))\n",
    "\n",
    "\n",
    "for i in range(df_q16_16.shape[0]):\n",
    "  for j in range(df_q16_16.shape[1]):\n",
    "    differences[i][j] = abs(p4_q16_16_frac_mult_probabilities_list[i][j] - tf_probabilities_list[i][j])\n",
    "\n",
    "max_value = max(differences[0])\n",
    "min_value = min(differences[0])\n",
    "for row in differences[1:]:\n",
    "    max_value = max(max_value, max(row))\n",
    "    min_value = min(min_value, min(row))\n",
    "\n",
    "print(\"P4 Fractional Multiplication Q16.16\")\n",
    "print(\"max: \",max_value,\"min: \", min_value)\n",
    "df_differences_q16_16_frac_mult = pd.DataFrame(differences)\n",
    "\n",
    "#####\n",
    "\n",
    "p4_q16_16_norm_table_probabilities_list = df_p4_q16_16_norm_table.values.tolist()\n",
    "differences = np.zeros((df_p4_q16_16_norm_table.shape[0], df_p4_q16_16_norm_table.shape[1]))\n",
    "\n",
    "for i in range(df_p4_q16_16_norm_table.shape[0]):\n",
    "  for j in range(df_p4_q16_16_norm_table.shape[1]):\n",
    "    differences[i][j] = abs(p4_q16_16_norm_table_probabilities_list[i][j] - tf_probabilities_list[i][j])\n",
    "\n",
    "max_value = max(differences[0])\n",
    "min_value = min(differences[0])\n",
    "for row in differences[1:]:\n",
    "    max_value = max(max_value, max(row))\n",
    "    min_value = min(min_value, min(row))\n",
    "\n",
    "print(\"P4 Normalization tables Q16.16\")\n",
    "print(\"max: \",max_value,\"min: \", min_value)\n",
    "df_differences_q16_16_norm_table = pd.DataFrame(differences)"
   ]
  },
  {
   "cell_type": "code",
   "execution_count": null,
   "metadata": {
    "id": "YOLJTvHiVEmc"
   },
   "outputs": [],
   "source": [
    "errors_q16_16 = []\n",
    "errors_q16_12 = []\n",
    "\n",
    "\n",
    "for i in range(1,13):\n",
    "  errors_q16_16_frac_mult = errors_q16_16 + df_differences[i].values.tolist()\n",
    "  errors_q16_16_norm_table = errors_q16_12 + df_differences_q16_12[i].values.tolist()\n"
   ]
  },
  {
   "cell_type": "code",
   "execution_count": null,
   "metadata": {
    "colab": {
     "base_uri": "https://localhost:8080/",
     "height": 392
    },
    "executionInfo": {
     "elapsed": 2647,
     "status": "ok",
     "timestamp": 1666147298312,
     "user": {
      "displayName": "Vicente Lessa",
      "userId": "14551761473643883791"
     },
     "user_tz": 180
    },
    "id": "UJaGl-CeAJAr",
    "outputId": "af72617d-e47a-4649-97c7-11f66aed05c3"
   },
   "outputs": [
    {
     "data": {
      "image/png": "[encoded data removed]",
      "text/plain": [
       "<Figure size 576x432 with 1 Axes>"
      ]
     },
     "metadata": {
      "needs_background": "light"
     },
     "output_type": "display_data"
    }
   ],
   "source": [
    "plt.figure(figsize=[8, 6])\n",
    "plt.plot(sorted(errors_q16_16),np.arange(len(errors_q16_16))/len(errors_q16_16),color=\"deepskyblue\", label=\"Q16.16\")\n",
    "plt.plot(sorted(errors_q16_12),np.arange(len(errors_q16_12))/len(errors_q16_12),color=\"orange\", label=\"Q16.12\")\n",
    "plt.plot(sorted(errors_q16_8),np.arange(len(errors_q16_8))/len(errors_q16_8),color=\"green\", label=\"Q16.8\")\n",
    "plt.plot(sorted(errors_q16_4),np.arange(len(errors_q16_4))/len(errors_q16_4),color=\"red\", label=\"Q16.4\")\n",
    "\n",
    "\n",
    "plt.ylabel('Fração em relação ao todo')\n",
    "plt.xlabel('Erro')\n",
    "#plt.title('Função distribuição acumulada')\n",
    "plt.legend(loc=2)\n",
    "\n",
    "y=np.arange(0.0,1.1,0.1)\n",
    "x=[0.00000033,0.000001,0.0000033,0.00001,0.000033,0.0001,0.00033,0.001,0.0033,0.01,0.033,0.1,0.33,1,3.3,10,33]\n",
    "plt.yticks(y)\n",
    "plt.xticks(x)\n",
    "plt.ylim(-0.01,1.05)\n",
    "plt.xlim(0.0000003,33)\n",
    "for i in y:\n",
    "  plt.axhline(i, color=\"grey\", linestyle=\":\")\n",
    "for i in x:\n",
    "  plt.axvline(i, color=\"grey\", linestyle=\":\")\n",
    "\n",
    "plt.xscale(\"log\")\n",
    "\n",
    "now = datetime.now()\n",
    "dt_string = now.strftime(\"%d-%m-%Y %H:%M:%S\")\n",
    "title = \"/content/drive/MyDrive/network-traffic-classification-main/nn-reports/CDF_fixed_integer_%s\"%dt_string + \".pdf\"\n",
    "plt.savefig(title)\n"
   ]
  },
  {
   "cell_type": "code",
   "execution_count": null,
   "metadata": {
    "id": "KZB7X-jZsc6n"
   },
   "outputs": [],
   "source": [
    "# df_tf = df_tf.head(1000)\n",
    "# df_p4 = df_p4.head(1000)\n",
    "\n",
    "# differences_zeros = np.zeros((df_p4.shape[0], df_p4.shape[1]))\n",
    "# print(differences_zeros.shape)\n",
    "# df_differences = pd.DataFrame(differences_zeros)\n",
    "\n",
    "# for i in range(df_p4.shape[0]):\n",
    "#   for j in range(df_p4.shape[1]):\n",
    "#     df_differences.loc[i][j] = abs(df_p4.loc[i][j] - df_tf.loc[i][j])\n",
    "\n",
    "# display(df_differences)\n"
   ]
  },
  {
   "cell_type": "code",
   "execution_count": null,
   "metadata": {
    "id": "hqMqsOxJkbM-"
   },
   "outputs": [],
   "source": [
    "# df_p4.drop(columns=df_p4.columns[0], axis=1, inplace=True)\n",
    "# p4_predictions = df_p4.columns[0]\n",
    "# df_p4.drop(columns=df_p4.columns[0], axis=1, inplace=True)\n",
    "# displaydf_p4_q16_16\n",
    "\n",
    "# tf_predictions = df_tf.columns[0]\n",
    "# df_tf.drop(columns=df_tf.columns[0], axis=1, inplace=True)\n",
    "# display(df_tf)\n"
   ]
  }
 ],
 "metadata": {
  "colab": {
   "authorship_tag": "ABX9TyPz4dQOhytXNfn4Uzw+u00j",
   "provenance": [
    {
     "file_id": "1Tb8d9hmByF-BPnM0m705DXUR6OXsiK3Z",
     "timestamp": 1693239024266
    },
    {
     "file_id": "1J-eNBAC_rhVMQuZ9ey55bky-jcDlj8vU",
     "timestamp": 1663364552684
    },
    {
     "file_id": "1LP9-Nxb4kwQI5FIm5pZyzNPorD5ZQgVy",
     "timestamp": 1660917050655
    },
    {
     "file_id": "14tq_F--REXD1l6SK_RgQwiv7AiJ1PjzE",
     "timestamp": 1660915015638
    },
    {
     "file_id": "1u0E4CFsBf4k62yi38gfqB4HlagC-Tfhc",
     "timestamp": 1653612718594
    },
    {
     "file_id": "1Cpg4jNgwyPiT4AGenVm1xCQgBrzxHhCT",
     "timestamp": 1643821363627
    },
    {
     "file_id": "1k-uty64gq4zwMYT-FFDYnhQ-9Z5bXvQ-",
     "timestamp": 1642608790480
    },
    {
     "file_id": "1eXxWzQSIUjunkjCGopzkFpuoB42a7YbS",
     "timestamp": 1642604110588
    },
    {
     "file_id": "1Y0hheLUxBgA_oy3QG9nY0JRieWhjt4BM",
     "timestamp": 1639758139710
    }
   ]
  },
  "kernelspec": {
   "display_name": "Python 3 (ipykernel)",
   "language": "python",
   "name": "python3"
  },
  "language_info": {
   "codemirror_mode": {
    "name": "ipython",
    "version": 3
   },
   "file_extension": ".py",
   "mimetype": "text/x-python",
   "name": "python",
   "nbconvert_exporter": "python",
   "pygments_lexer": "ipython3",
   "version": "3.12.3"
  }
 },
 "nbformat": 4,
 "nbformat_minor": 4
}
