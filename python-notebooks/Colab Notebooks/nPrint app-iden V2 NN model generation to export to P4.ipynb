{
 "cells": [
  {
   "cell_type": "code",
   "execution_count": 2,
   "metadata": {
    "colab": {
     "base_uri": "https://localhost:8080/"
    },
    "executionInfo": {
     "elapsed": 32174,
     "status": "ok",
     "timestamp": 1716259511383,
     "user": {
      "displayName": "Vicente Lessa",
      "userId": "14551761473643883791"
     },
     "user_tz": 180
    },
    "id": "93XXr2GHiBqA",
    "outputId": "426a70a0-e654-4846-dbd0-850c3cc8e0e2"
   },
   "outputs": [],
   "source": [
    "from datetime import datetime\n",
    "import json\n",
    "import numpy as np\n",
    "import os\n",
    "import pandas as pd\n",
    "import sys\n",
    "import tensorflow as tf\n",
    "import matplotlib.pyplot as plt\n",
    "\n",
    "from keras.callbacks import History\n",
    "history = History()"
   ]
  },
  {
   "cell_type": "markdown",
   "metadata": {
    "id": "q8SEnBPkJBjY"
   },
   "source": [
    "### Specify here the NN topology and the dataframe to be loaded"
   ]
  },
  {
   "cell_type": "code",
   "execution_count": 3,
   "metadata": {
    "executionInfo": {
     "elapsed": 245,
     "status": "ok",
     "timestamp": 1716259684236,
     "user": {
      "displayName": "Vicente Lessa",
      "userId": "14551761473643883791"
     },
     "user_tz": 180
    },
    "id": "CT-15-PmiHZn"
   },
   "outputs": [],
   "source": [
    "#specify the NN topology here:\n",
    "#input_layer_nodes = number_of_attributes\n",
    "number_of_attributes = 27\n",
    "hidden_layer_nodes = 27\n",
    "second_hidden_layer_nodes = 27\n",
    "output_layer_nodes = 7\n",
    "BATCH_SIZE = 512\n",
    "EPOCHS = 500\n",
    "#specify the dataset here:\n",
    "#choose the dataframe which the NN will be trained and mo\n",
    "#df_number = 1\n",
    "#number_of_samples = 2000\n",
    "\n"
   ]
  },
  {
   "cell_type": "markdown",
   "metadata": {
    "id": "d35dDblII_J9"
   },
   "source": [
    "###Define the model"
   ]
  },
  {
   "cell_type": "code",
   "execution_count": 4,
   "metadata": {
    "executionInfo": {
     "elapsed": 314,
     "status": "ok",
     "timestamp": 1716259688443,
     "user": {
      "displayName": "Vicente Lessa",
      "userId": "14551761473643883791"
     },
     "user_tz": 180
    },
    "id": "tj2cFHLXkoXh"
   },
   "outputs": [],
   "source": [
    "def get_basic_model():\n",
    "  model = tf.keras.Sequential([\n",
    "    normalizer,\n",
    "    tf.keras.layers.Dense(hidden_layer_nodes, activation='relu'),\n",
    "    tf.keras.layers.Dense(second_hidden_layer_nodes, activation='relu'),\n",
    "    tf.keras.layers.Dense(output_layer_nodes)\n",
    "  ])\n",
    "\n",
    "  model.compile(optimizer='adam',\n",
    "                loss=tf.keras.losses.SparseCategoricalCrossentropy(from_logits=True),\n",
    "                metrics=['accuracy'])\n",
    "  return model"
   ]
  },
  {
   "cell_type": "markdown",
   "metadata": {
    "id": "LaiUaBAuI6HD"
   },
   "source": [
    "###Import the data"
   ]
  },
  {
   "cell_type": "code",
   "execution_count": 5,
   "metadata": {
    "colab": {
     "base_uri": "https://localhost:8080/",
     "height": 356
    },
    "executionInfo": {
     "elapsed": 1108,
     "status": "error",
     "timestamp": 1716259692331,
     "user": {
      "displayName": "Vicente Lessa",
      "userId": "14551761473643883791"
     },
     "user_tz": 180
    },
    "id": "OsFlOvQqF-KK",
    "outputId": "7f2b6ca8-0e18-477c-c605-075a9a5eeb1a"
   },
   "outputs": [],
   "source": [
    "# df_train = pd.read_pickle('/content/drive/MyDrive/nprint/nn-reproduction/app-iden/X.pkl')\n",
    "# df_test = pd.read_pickle('/content/drive/MyDrive/nprint/nn-reproduction/app-iden/X_val.pkl')\n",
    "# label_train = pd.read_pickle('/content/drive/MyDrive/nprint/nn-reproduction/app-iden/y.pkl')\n",
    "# label_test = pd.read_pickle('/content/drive/MyDrive/nprint/nn-reproduction/app-iden/y_val.pkl')\n",
    "\n",
    "# df = pd.DataFrame(df_train)\n",
    "# df.to_csv(r'/content/drive/MyDrive/nprint/nn-reproduction/app-iden/X.csv')\n",
    "# df = pd.DataFrame(df_test)\n",
    "# df.to_csv(r'/content/drive/MyDrive/nprint/nn-reproduction/app-iden/X_val.csv')\n",
    "# df = pd.DataFrame(label_train)\n",
    "# df.to_csv(r'/content/drive/MyDrive/nprint/nn-reproduction/app-iden/y.csv')\n",
    "# df = pd.DataFrame(label_test)\n",
    "# df.to_csv(r'/content/drive/MyDrive/nprint/nn-reproduction/app-iden/y_val.csv')"
   ]
  },
  {
   "cell_type": "code",
   "execution_count": 6,
   "metadata": {
    "executionInfo": {
     "elapsed": 2838,
     "status": "ok",
     "timestamp": 1716259736242,
     "user": {
      "displayName": "Vicente Lessa",
      "userId": "14551761473643883791"
     },
     "user_tz": 180
    },
    "id": "NLYaSSiIhrgz"
   },
   "outputs": [
    {
     "ename": "FileNotFoundError",
     "evalue": "[Errno 2] No such file or directory: '/content/drive/MyDrive/nprint/nn-reproduction/app-iden/X.csv'",
     "output_type": "error",
     "traceback": [
      "\u001b[1;31m---------------------------------------------------------------------------\u001b[0m",
      "\u001b[1;31mFileNotFoundError\u001b[0m                         Traceback (most recent call last)",
      "Cell \u001b[1;32mIn[6], line 1\u001b[0m\n\u001b[1;32m----> 1\u001b[0m df_train \u001b[38;5;241m=\u001b[39m \u001b[43mpd\u001b[49m\u001b[38;5;241;43m.\u001b[39;49m\u001b[43mread_csv\u001b[49m\u001b[43m(\u001b[49m\u001b[38;5;124;43m'\u001b[39;49m\u001b[38;5;124;43m/content/drive/MyDrive/nprint/nn-reproduction/app-iden/X.csv\u001b[39;49m\u001b[38;5;124;43m'\u001b[39;49m\u001b[43m)\u001b[49m\n\u001b[0;32m      2\u001b[0m df_test \u001b[38;5;241m=\u001b[39m pd\u001b[38;5;241m.\u001b[39mread_csv(\u001b[38;5;124m'\u001b[39m\u001b[38;5;124m/content/drive/MyDrive/nprint/nn-reproduction/app-iden/X_val.csv\u001b[39m\u001b[38;5;124m'\u001b[39m)\n\u001b[0;32m      3\u001b[0m label_train \u001b[38;5;241m=\u001b[39m pd\u001b[38;5;241m.\u001b[39mread_csv(\u001b[38;5;124m'\u001b[39m\u001b[38;5;124m/content/drive/MyDrive/nprint/nn-reproduction/app-iden/y.csv\u001b[39m\u001b[38;5;124m'\u001b[39m)\n",
      "File \u001b[1;32mC:\\Anaconda\\envs\\testenv\\lib\\site-packages\\pandas\\io\\parsers\\readers.py:1026\u001b[0m, in \u001b[0;36mread_csv\u001b[1;34m(filepath_or_buffer, sep, delimiter, header, names, index_col, usecols, dtype, engine, converters, true_values, false_values, skipinitialspace, skiprows, skipfooter, nrows, na_values, keep_default_na, na_filter, verbose, skip_blank_lines, parse_dates, infer_datetime_format, keep_date_col, date_parser, date_format, dayfirst, cache_dates, iterator, chunksize, compression, thousands, decimal, lineterminator, quotechar, quoting, doublequote, escapechar, comment, encoding, encoding_errors, dialect, on_bad_lines, delim_whitespace, low_memory, memory_map, float_precision, storage_options, dtype_backend)\u001b[0m\n\u001b[0;32m   1013\u001b[0m kwds_defaults \u001b[38;5;241m=\u001b[39m _refine_defaults_read(\n\u001b[0;32m   1014\u001b[0m     dialect,\n\u001b[0;32m   1015\u001b[0m     delimiter,\n\u001b[1;32m   (...)\u001b[0m\n\u001b[0;32m   1022\u001b[0m     dtype_backend\u001b[38;5;241m=\u001b[39mdtype_backend,\n\u001b[0;32m   1023\u001b[0m )\n\u001b[0;32m   1024\u001b[0m kwds\u001b[38;5;241m.\u001b[39mupdate(kwds_defaults)\n\u001b[1;32m-> 1026\u001b[0m \u001b[38;5;28;01mreturn\u001b[39;00m \u001b[43m_read\u001b[49m\u001b[43m(\u001b[49m\u001b[43mfilepath_or_buffer\u001b[49m\u001b[43m,\u001b[49m\u001b[43m \u001b[49m\u001b[43mkwds\u001b[49m\u001b[43m)\u001b[49m\n",
      "File \u001b[1;32mC:\\Anaconda\\envs\\testenv\\lib\\site-packages\\pandas\\io\\parsers\\readers.py:620\u001b[0m, in \u001b[0;36m_read\u001b[1;34m(filepath_or_buffer, kwds)\u001b[0m\n\u001b[0;32m    617\u001b[0m _validate_names(kwds\u001b[38;5;241m.\u001b[39mget(\u001b[38;5;124m\"\u001b[39m\u001b[38;5;124mnames\u001b[39m\u001b[38;5;124m\"\u001b[39m, \u001b[38;5;28;01mNone\u001b[39;00m))\n\u001b[0;32m    619\u001b[0m \u001b[38;5;66;03m# Create the parser.\u001b[39;00m\n\u001b[1;32m--> 620\u001b[0m parser \u001b[38;5;241m=\u001b[39m TextFileReader(filepath_or_buffer, \u001b[38;5;241m*\u001b[39m\u001b[38;5;241m*\u001b[39mkwds)\n\u001b[0;32m    622\u001b[0m \u001b[38;5;28;01mif\u001b[39;00m chunksize \u001b[38;5;129;01mor\u001b[39;00m iterator:\n\u001b[0;32m    623\u001b[0m     \u001b[38;5;28;01mreturn\u001b[39;00m parser\n",
      "File \u001b[1;32mC:\\Anaconda\\envs\\testenv\\lib\\site-packages\\pandas\\io\\parsers\\readers.py:1620\u001b[0m, in \u001b[0;36mTextFileReader.__init__\u001b[1;34m(self, f, engine, **kwds)\u001b[0m\n\u001b[0;32m   1617\u001b[0m     \u001b[38;5;28mself\u001b[39m\u001b[38;5;241m.\u001b[39moptions[\u001b[38;5;124m\"\u001b[39m\u001b[38;5;124mhas_index_names\u001b[39m\u001b[38;5;124m\"\u001b[39m] \u001b[38;5;241m=\u001b[39m kwds[\u001b[38;5;124m\"\u001b[39m\u001b[38;5;124mhas_index_names\u001b[39m\u001b[38;5;124m\"\u001b[39m]\n\u001b[0;32m   1619\u001b[0m \u001b[38;5;28mself\u001b[39m\u001b[38;5;241m.\u001b[39mhandles: IOHandles \u001b[38;5;241m|\u001b[39m \u001b[38;5;28;01mNone\u001b[39;00m \u001b[38;5;241m=\u001b[39m \u001b[38;5;28;01mNone\u001b[39;00m\n\u001b[1;32m-> 1620\u001b[0m \u001b[38;5;28mself\u001b[39m\u001b[38;5;241m.\u001b[39m_engine \u001b[38;5;241m=\u001b[39m \u001b[38;5;28;43mself\u001b[39;49m\u001b[38;5;241;43m.\u001b[39;49m\u001b[43m_make_engine\u001b[49m\u001b[43m(\u001b[49m\u001b[43mf\u001b[49m\u001b[43m,\u001b[49m\u001b[43m \u001b[49m\u001b[38;5;28;43mself\u001b[39;49m\u001b[38;5;241;43m.\u001b[39;49m\u001b[43mengine\u001b[49m\u001b[43m)\u001b[49m\n",
      "File \u001b[1;32mC:\\Anaconda\\envs\\testenv\\lib\\site-packages\\pandas\\io\\parsers\\readers.py:1880\u001b[0m, in \u001b[0;36mTextFileReader._make_engine\u001b[1;34m(self, f, engine)\u001b[0m\n\u001b[0;32m   1878\u001b[0m     \u001b[38;5;28;01mif\u001b[39;00m \u001b[38;5;124m\"\u001b[39m\u001b[38;5;124mb\u001b[39m\u001b[38;5;124m\"\u001b[39m \u001b[38;5;129;01mnot\u001b[39;00m \u001b[38;5;129;01min\u001b[39;00m mode:\n\u001b[0;32m   1879\u001b[0m         mode \u001b[38;5;241m+\u001b[39m\u001b[38;5;241m=\u001b[39m \u001b[38;5;124m\"\u001b[39m\u001b[38;5;124mb\u001b[39m\u001b[38;5;124m\"\u001b[39m\n\u001b[1;32m-> 1880\u001b[0m \u001b[38;5;28mself\u001b[39m\u001b[38;5;241m.\u001b[39mhandles \u001b[38;5;241m=\u001b[39m \u001b[43mget_handle\u001b[49m\u001b[43m(\u001b[49m\n\u001b[0;32m   1881\u001b[0m \u001b[43m    \u001b[49m\u001b[43mf\u001b[49m\u001b[43m,\u001b[49m\n\u001b[0;32m   1882\u001b[0m \u001b[43m    \u001b[49m\u001b[43mmode\u001b[49m\u001b[43m,\u001b[49m\n\u001b[0;32m   1883\u001b[0m \u001b[43m    \u001b[49m\u001b[43mencoding\u001b[49m\u001b[38;5;241;43m=\u001b[39;49m\u001b[38;5;28;43mself\u001b[39;49m\u001b[38;5;241;43m.\u001b[39;49m\u001b[43moptions\u001b[49m\u001b[38;5;241;43m.\u001b[39;49m\u001b[43mget\u001b[49m\u001b[43m(\u001b[49m\u001b[38;5;124;43m\"\u001b[39;49m\u001b[38;5;124;43mencoding\u001b[39;49m\u001b[38;5;124;43m\"\u001b[39;49m\u001b[43m,\u001b[49m\u001b[43m \u001b[49m\u001b[38;5;28;43;01mNone\u001b[39;49;00m\u001b[43m)\u001b[49m\u001b[43m,\u001b[49m\n\u001b[0;32m   1884\u001b[0m \u001b[43m    \u001b[49m\u001b[43mcompression\u001b[49m\u001b[38;5;241;43m=\u001b[39;49m\u001b[38;5;28;43mself\u001b[39;49m\u001b[38;5;241;43m.\u001b[39;49m\u001b[43moptions\u001b[49m\u001b[38;5;241;43m.\u001b[39;49m\u001b[43mget\u001b[49m\u001b[43m(\u001b[49m\u001b[38;5;124;43m\"\u001b[39;49m\u001b[38;5;124;43mcompression\u001b[39;49m\u001b[38;5;124;43m\"\u001b[39;49m\u001b[43m,\u001b[49m\u001b[43m \u001b[49m\u001b[38;5;28;43;01mNone\u001b[39;49;00m\u001b[43m)\u001b[49m\u001b[43m,\u001b[49m\n\u001b[0;32m   1885\u001b[0m \u001b[43m    \u001b[49m\u001b[43mmemory_map\u001b[49m\u001b[38;5;241;43m=\u001b[39;49m\u001b[38;5;28;43mself\u001b[39;49m\u001b[38;5;241;43m.\u001b[39;49m\u001b[43moptions\u001b[49m\u001b[38;5;241;43m.\u001b[39;49m\u001b[43mget\u001b[49m\u001b[43m(\u001b[49m\u001b[38;5;124;43m\"\u001b[39;49m\u001b[38;5;124;43mmemory_map\u001b[39;49m\u001b[38;5;124;43m\"\u001b[39;49m\u001b[43m,\u001b[49m\u001b[43m \u001b[49m\u001b[38;5;28;43;01mFalse\u001b[39;49;00m\u001b[43m)\u001b[49m\u001b[43m,\u001b[49m\n\u001b[0;32m   1886\u001b[0m \u001b[43m    \u001b[49m\u001b[43mis_text\u001b[49m\u001b[38;5;241;43m=\u001b[39;49m\u001b[43mis_text\u001b[49m\u001b[43m,\u001b[49m\n\u001b[0;32m   1887\u001b[0m \u001b[43m    \u001b[49m\u001b[43merrors\u001b[49m\u001b[38;5;241;43m=\u001b[39;49m\u001b[38;5;28;43mself\u001b[39;49m\u001b[38;5;241;43m.\u001b[39;49m\u001b[43moptions\u001b[49m\u001b[38;5;241;43m.\u001b[39;49m\u001b[43mget\u001b[49m\u001b[43m(\u001b[49m\u001b[38;5;124;43m\"\u001b[39;49m\u001b[38;5;124;43mencoding_errors\u001b[39;49m\u001b[38;5;124;43m\"\u001b[39;49m\u001b[43m,\u001b[49m\u001b[43m \u001b[49m\u001b[38;5;124;43m\"\u001b[39;49m\u001b[38;5;124;43mstrict\u001b[39;49m\u001b[38;5;124;43m\"\u001b[39;49m\u001b[43m)\u001b[49m\u001b[43m,\u001b[49m\n\u001b[0;32m   1888\u001b[0m \u001b[43m    \u001b[49m\u001b[43mstorage_options\u001b[49m\u001b[38;5;241;43m=\u001b[39;49m\u001b[38;5;28;43mself\u001b[39;49m\u001b[38;5;241;43m.\u001b[39;49m\u001b[43moptions\u001b[49m\u001b[38;5;241;43m.\u001b[39;49m\u001b[43mget\u001b[49m\u001b[43m(\u001b[49m\u001b[38;5;124;43m\"\u001b[39;49m\u001b[38;5;124;43mstorage_options\u001b[39;49m\u001b[38;5;124;43m\"\u001b[39;49m\u001b[43m,\u001b[49m\u001b[43m \u001b[49m\u001b[38;5;28;43;01mNone\u001b[39;49;00m\u001b[43m)\u001b[49m\u001b[43m,\u001b[49m\n\u001b[0;32m   1889\u001b[0m \u001b[43m\u001b[49m\u001b[43m)\u001b[49m\n\u001b[0;32m   1890\u001b[0m \u001b[38;5;28;01massert\u001b[39;00m \u001b[38;5;28mself\u001b[39m\u001b[38;5;241m.\u001b[39mhandles \u001b[38;5;129;01mis\u001b[39;00m \u001b[38;5;129;01mnot\u001b[39;00m \u001b[38;5;28;01mNone\u001b[39;00m\n\u001b[0;32m   1891\u001b[0m f \u001b[38;5;241m=\u001b[39m \u001b[38;5;28mself\u001b[39m\u001b[38;5;241m.\u001b[39mhandles\u001b[38;5;241m.\u001b[39mhandle\n",
      "File \u001b[1;32mC:\\Anaconda\\envs\\testenv\\lib\\site-packages\\pandas\\io\\common.py:873\u001b[0m, in \u001b[0;36mget_handle\u001b[1;34m(path_or_buf, mode, encoding, compression, memory_map, is_text, errors, storage_options)\u001b[0m\n\u001b[0;32m    868\u001b[0m \u001b[38;5;28;01melif\u001b[39;00m \u001b[38;5;28misinstance\u001b[39m(handle, \u001b[38;5;28mstr\u001b[39m):\n\u001b[0;32m    869\u001b[0m     \u001b[38;5;66;03m# Check whether the filename is to be opened in binary mode.\u001b[39;00m\n\u001b[0;32m    870\u001b[0m     \u001b[38;5;66;03m# Binary mode does not support 'encoding' and 'newline'.\u001b[39;00m\n\u001b[0;32m    871\u001b[0m     \u001b[38;5;28;01mif\u001b[39;00m ioargs\u001b[38;5;241m.\u001b[39mencoding \u001b[38;5;129;01mand\u001b[39;00m \u001b[38;5;124m\"\u001b[39m\u001b[38;5;124mb\u001b[39m\u001b[38;5;124m\"\u001b[39m \u001b[38;5;129;01mnot\u001b[39;00m \u001b[38;5;129;01min\u001b[39;00m ioargs\u001b[38;5;241m.\u001b[39mmode:\n\u001b[0;32m    872\u001b[0m         \u001b[38;5;66;03m# Encoding\u001b[39;00m\n\u001b[1;32m--> 873\u001b[0m         handle \u001b[38;5;241m=\u001b[39m \u001b[38;5;28;43mopen\u001b[39;49m\u001b[43m(\u001b[49m\n\u001b[0;32m    874\u001b[0m \u001b[43m            \u001b[49m\u001b[43mhandle\u001b[49m\u001b[43m,\u001b[49m\n\u001b[0;32m    875\u001b[0m \u001b[43m            \u001b[49m\u001b[43mioargs\u001b[49m\u001b[38;5;241;43m.\u001b[39;49m\u001b[43mmode\u001b[49m\u001b[43m,\u001b[49m\n\u001b[0;32m    876\u001b[0m \u001b[43m            \u001b[49m\u001b[43mencoding\u001b[49m\u001b[38;5;241;43m=\u001b[39;49m\u001b[43mioargs\u001b[49m\u001b[38;5;241;43m.\u001b[39;49m\u001b[43mencoding\u001b[49m\u001b[43m,\u001b[49m\n\u001b[0;32m    877\u001b[0m \u001b[43m            \u001b[49m\u001b[43merrors\u001b[49m\u001b[38;5;241;43m=\u001b[39;49m\u001b[43merrors\u001b[49m\u001b[43m,\u001b[49m\n\u001b[0;32m    878\u001b[0m \u001b[43m            \u001b[49m\u001b[43mnewline\u001b[49m\u001b[38;5;241;43m=\u001b[39;49m\u001b[38;5;124;43m\"\u001b[39;49m\u001b[38;5;124;43m\"\u001b[39;49m\u001b[43m,\u001b[49m\n\u001b[0;32m    879\u001b[0m \u001b[43m        \u001b[49m\u001b[43m)\u001b[49m\n\u001b[0;32m    880\u001b[0m     \u001b[38;5;28;01melse\u001b[39;00m:\n\u001b[0;32m    881\u001b[0m         \u001b[38;5;66;03m# Binary mode\u001b[39;00m\n\u001b[0;32m    882\u001b[0m         handle \u001b[38;5;241m=\u001b[39m \u001b[38;5;28mopen\u001b[39m(handle, ioargs\u001b[38;5;241m.\u001b[39mmode)\n",
      "\u001b[1;31mFileNotFoundError\u001b[0m: [Errno 2] No such file or directory: '/content/drive/MyDrive/nprint/nn-reproduction/app-iden/X.csv'"
     ]
    }
   ],
   "source": [
    "df_train = pd.read_csv('/content/drive/MyDrive/nprint/nn-reproduction/app-iden/X.csv')\n",
    "df_test = pd.read_csv('/content/drive/MyDrive/nprint/nn-reproduction/app-iden/X_val.csv')\n",
    "label_train = pd.read_csv('/content/drive/MyDrive/nprint/nn-reproduction/app-iden/y.csv')\n",
    "label_test = pd.read_csv('/content/drive/MyDrive/nprint/nn-reproduction/app-iden/y_val.csv')\n",
    "\n",
    "df_train.drop('pcap', axis=1, inplace=True)\n",
    "df_test.drop('pcap', axis=1, inplace=True)\n",
    "label_train.drop('pcap', axis=1, inplace=True)\n",
    "label_test.drop('pcap', axis=1, inplace=True)\n",
    "label_train.rename(columns={'0': 'label'}, inplace=True)\n",
    "label_test.rename(columns={'0': 'label'}, inplace=True)"
   ]
  },
  {
   "cell_type": "code",
   "execution_count": null,
   "metadata": {
    "colab": {
     "base_uri": "https://localhost:8080/",
     "height": 1000
    },
    "executionInfo": {
     "elapsed": 276,
     "status": "ok",
     "timestamp": 1716259740944,
     "user": {
      "displayName": "Vicente Lessa",
      "userId": "14551761473643883791"
     },
     "user_tz": 180
    },
    "id": "xvQrIU3HvO6O",
    "outputId": "911e2762-36e9-4ca0-c0fe-93293f1fe597"
   },
   "outputs": [],
   "source": [
    "display(df_train)\n",
    "display(df_test)\n",
    "display(label_train)\n",
    "display(label_test)"
   ]
  },
  {
   "cell_type": "code",
   "execution_count": null,
   "metadata": {
    "executionInfo": {
     "elapsed": 252,
     "status": "ok",
     "timestamp": 1716259749230,
     "user": {
      "displayName": "Vicente Lessa",
      "userId": "14551761473643883791"
     },
     "user_tz": 180
    },
    "id": "bHgpzuUgWT0J"
   },
   "outputs": [],
   "source": [
    "#select a sub-dataframe with only the 40 top attrs rate by the AUTOGLUON feature importance algorithm\n",
    "# df_train = df_train[[\"pkt_1_ipv4_id_12\",\"pkt_3_ipv4_tl_5\",\"pkt_1_ipv4_ttl_4\",\"pkt_2_ipv4_cksum_15\",\"pkt_3_ipv4_dfbit_0\",\"pkt_0_udp_cksum_2\",\"pkt_3_ipv4_cksum_14\",\"pkt_2_ipv4_ttl_6\",\"pkt_1_udp_cksum_12\",\"pkt_4_ipv4_cksum_13\",\"pkt_3_ipv4_id_15\",\"pkt_0_udp_sport_11\",\"pkt_0_ipv4_ttl_1\",\"pkt_1_ipv4_ttl_3\",\"pkt_4_ipv4_id_13\",\"pkt_0_ipv4_id_2\",\"pkt_1_udp_len_15\",\"pkt_1_udp_cksum_2\",\"pkt_2_ipv4_ttl_3\",\"pkt_3_udp_cksum_11\",\"pkt_4_ipv4_cksum_7\",\"pkt_2_ipv4_cksum_3\",\"pkt_0_udp_cksum_5\",\"pkt_0_ipv4_cksum_0\",\"pkt_0_ipv4_tos_6\",\"pkt_1_ipv4_cksum_4\",\"pkt_3_ipv4_id_8\",\"pkt_4_ipv4_id_3\",\"pkt_2_ipv4_cksum_9\",\"pkt_1_udp_sport_2\",\"pkt_1_ipv4_id_2\",\"pkt_3_ipv4_id_3\",\"pkt_0_udp_len_12\",\"pkt_0_ipv4_tl_15\",\"pkt_1_ipv4_cksum_10\",\"pkt_3_udp_len_15\",\"pkt_0_udp_len_15\"]]\n",
    "# df_test = df_test[[\"pkt_1_ipv4_id_12\",\"pkt_3_ipv4_tl_5\",\"pkt_1_ipv4_ttl_4\",\"pkt_2_ipv4_cksum_15\",\"pkt_3_ipv4_dfbit_0\",\"pkt_0_udp_cksum_2\",\"pkt_3_ipv4_cksum_14\",\"pkt_2_ipv4_ttl_6\",\"pkt_1_udp_cksum_12\",\"pkt_4_ipv4_cksum_13\",\"pkt_3_ipv4_id_15\",\"pkt_0_udp_sport_11\",\"pkt_0_ipv4_ttl_1\",\"pkt_1_ipv4_ttl_3\",\"pkt_4_ipv4_id_13\",\"pkt_0_ipv4_id_2\",\"pkt_1_udp_len_15\",\"pkt_1_udp_cksum_2\",\"pkt_2_ipv4_ttl_3\",\"pkt_3_udp_cksum_11\",\"pkt_4_ipv4_cksum_7\",\"pkt_2_ipv4_cksum_3\",\"pkt_0_udp_cksum_5\",\"pkt_0_ipv4_cksum_0\",\"pkt_0_ipv4_tos_6\",\"pkt_1_ipv4_cksum_4\",\"pkt_3_ipv4_id_8\",\"pkt_4_ipv4_id_3\",\"pkt_2_ipv4_cksum_9\",\"pkt_1_udp_sport_2\",\"pkt_1_ipv4_id_2\",\"pkt_3_ipv4_id_3\",\"pkt_0_udp_len_12\",\"pkt_0_ipv4_tl_15\",\"pkt_1_ipv4_cksum_10\",\"pkt_3_udp_len_15\",\"pkt_0_udp_len_15\"]]\n",
    "\n",
    "#select a sub-dataframe with only the 27 top attrs rate by the AUTOGLUON feature importance algorithm\n",
    "df_train = df_train[[\"pkt_1_ipv4_tl_5\",\"pkt_1_udp_len_9\",\"pkt_0_udp_len_12\",\"pkt_2_ipv4_tl_6\",\"pkt_4_udp_len_8\",\"pkt_3_udp_len_7\",\"pkt_2_ipv4_tl_7\",\"pkt_1_udp_len_8\",\"pkt_3_ipv4_tl_5\",\"pkt_0_udp_len_15\",\"pkt_3_udp_len_15\",\"pkt_1_udp_len_10\",\"pkt_3_udp_len_9\",\"pkt_0_ipv4_tl_10\",\"pkt_2_udp_len_11\",\"pkt_2_ipv4_tl_10\",\"pkt_4_udp_len_7\",\"pkt_1_udp_len_13\",\"pkt_0_ipv4_tl_12\",\"pkt_1_ipv4_tl_9\",\"pkt_0_ipv4_ttl_6\",\"pkt_3_ipv4_tl_11\",\"pkt_2_ipv4_ttl_2\",\"pkt_4_udp_dport_0\",\"pkt_0_ipv4_ttl_2\",\"pkt_1_udp_dport_1\",\"pkt_2_udp_len_12\"]]\n",
    "df_test = df_test[[\"pkt_1_ipv4_tl_5\",\"pkt_1_udp_len_9\",\"pkt_0_udp_len_12\",\"pkt_2_ipv4_tl_6\",\"pkt_4_udp_len_8\",\"pkt_3_udp_len_7\",\"pkt_2_ipv4_tl_7\",\"pkt_1_udp_len_8\",\"pkt_3_ipv4_tl_5\",\"pkt_0_udp_len_15\",\"pkt_3_udp_len_15\",\"pkt_1_udp_len_10\",\"pkt_3_udp_len_9\",\"pkt_0_ipv4_tl_10\",\"pkt_2_udp_len_11\",\"pkt_2_ipv4_tl_10\",\"pkt_4_udp_len_7\",\"pkt_1_udp_len_13\",\"pkt_0_ipv4_tl_12\",\"pkt_1_ipv4_tl_9\",\"pkt_0_ipv4_ttl_6\",\"pkt_3_ipv4_tl_11\",\"pkt_2_ipv4_ttl_2\",\"pkt_4_udp_dport_0\",\"pkt_0_ipv4_ttl_2\",\"pkt_1_udp_dport_1\",\"pkt_2_udp_len_12\"]]\n",
    "\n",
    "#select a sub-dataframe with only the 10 top attrs rate by the AUTOGLUON feature importance algorithm\n",
    "# df_train = df_train[[\"pkt_1_ipv4_tl_5\",\"pkt_1_udp_len_9\",\"pkt_0_udp_len_12\",\"pkt_2_ipv4_tl_6\",\"pkt_4_udp_len_8\",\"pkt_3_udp_len_7\",\"pkt_2_ipv4_tl_7\",\"pkt_1_udp_len_8\",\"pkt_3_ipv4_tl_5\",\"pkt_0_udp_len_15\"]]\n",
    "# df_test = df_test[[\"pkt_1_ipv4_tl_5\",\"pkt_1_udp_len_9\",\"pkt_0_udp_len_12\",\"pkt_2_ipv4_tl_6\",\"pkt_4_udp_len_8\",\"pkt_3_udp_len_7\",\"pkt_2_ipv4_tl_7\",\"pkt_1_udp_len_8\",\"pkt_3_ipv4_tl_5\",\"pkt_0_udp_len_15\"]]\n",
    "\n",
    "# select a sub-dataframe with only the 5 top attrs rate by JV feature importance algorithm\n",
    "# df_train = df_train[['pkt_1_udp_len_11','pkt_1_udp_len_9','pkt_1_ipv4_tl_9','pkt_1_ipv4_tl_11','pkt_0_udp_len_7']]\n",
    "# df_test = df_test[['pkt_1_udp_len_11','pkt_1_udp_len_9','pkt_1_ipv4_tl_9','pkt_1_ipv4_tl_11','pkt_0_udp_len_7']]\n"
   ]
  },
  {
   "cell_type": "markdown",
   "metadata": {
    "id": "e3ngEN5GJTag"
   },
   "source": [
    "### NN training\n",
    " model weights file generation\n",
    "\n",
    " model parameters json file generation"
   ]
  },
  {
   "cell_type": "code",
   "execution_count": null,
   "metadata": {
    "colab": {
     "base_uri": "https://localhost:8080/"
    },
    "executionInfo": {
     "elapsed": 29270,
     "status": "ok",
     "timestamp": 1716259884626,
     "user": {
      "displayName": "Vicente Lessa",
      "userId": "14551761473643883791"
     },
     "user_tz": 180
    },
    "id": "Axt9vLxMiO-6",
    "outputId": "9e385e82-fa0a-4943-c9c1-abaac3390b7c"
   },
   "outputs": [],
   "source": [
    "# Begin NN training\n",
    "NUMBER_OF_ATTRS = df_train.shape[1]\n",
    "\n",
    "# Convert int values to TF expect values (float)\n",
    "df_train = np.asarray(df_train).astype(np.float32)\n",
    "df_test = np.asarray(df_test).astype(np.float32)\n",
    "# Converts pandas dataframe to tensorflow object\n",
    "df_train = tf.convert_to_tensor(df_train)\n",
    "# Normalize the data\n",
    "normalizer = tf.keras.layers.Normalization(axis=-1)\n",
    "normalizer.adapt(df_train)\n",
    "#normalizer.adapt(numeric_features_test)\n",
    "\n",
    "# Execute Trainning and Testing\n",
    "print('Starting training for',number_of_attributes,'attributes')\n",
    "model = get_basic_model()\n",
    "model.fit(df_train, label_train, epochs=EPOCHS, verbose=1, batch_size=BATCH_SIZE)\n",
    "\n",
    "test_loss, one_test_acc =  model.evaluate(df_test,  label_test, verbose=1, batch_size=BATCH_SIZE)\n",
    "tf_predictions_probabilities = model.predict(df_test)\n",
    "tf_predictions = []\n",
    "\n",
    "for i,x in enumerate(tf_predictions_probabilities):\n",
    "  #print(\"i:\",i,\"x_max:\",x.max(),\"x:\",x)\n",
    "  j_max = x.argmax()\n",
    "  tf_predictions.append(j_max)\n",
    "\n",
    "conf_m = tf.math.confusion_matrix(label_test,tf_predictions)\n",
    "print(conf_m)\n"
   ]
  },
  {
   "cell_type": "code",
   "execution_count": null,
   "metadata": {
    "executionInfo": {
     "elapsed": 271,
     "status": "ok",
     "timestamp": 1716259966440,
     "user": {
      "displayName": "Vicente Lessa",
      "userId": "14551761473643883791"
     },
     "user_tz": 180
    },
    "id": "hqqrljwkNZ_p"
   },
   "outputs": [],
   "source": [
    "# Date for report file\n",
    "now = datetime.now()\n",
    "dt_string = now.strftime(\"%d-%m-%Y %H:%M:%S\")\n",
    "# Report file content\n",
    "report = {\n",
    "    \"datetime\": dt_string,\n",
    "    \"number_of_attributes\": number_of_attributes,\n",
    "    \"hidden_layer_nodes\": hidden_layer_nodes,\n",
    "    \"second_hidden_layer_nodes\": second_hidden_layer_nodes,\n",
    "    \"output_layer_nodes\": output_layer_nodes,\n",
    "    \"accuracy_test\": one_test_acc,\n",
    "    \"batch_size\": BATCH_SIZE,\n",
    "    \"epochs\": EPOCHS\n",
    "    #\"number_of_samples\": number_of_samples,\n",
    "    #\"df_number\": df_number\n",
    "}\n",
    "\n",
    "\n",
    "# norm_layer_weights = model.layers[0].get_weights()[0] #weight\n",
    "# norm_layer_biases  = model.layers[0].get_weights()[1] #bias\n",
    "# hidden_layer_weights = model.layers[1].get_weights()[0] #weight\n",
    "# hidden_layer_biases  = model.layers[1].get_weights()[1] #bias\n",
    "# out_layer_weights = model.layers[2].get_weights()[0] #weight\n",
    "# out_layer_biases  = model.layers[2].get_weights()[1] #bias\n",
    "# print('\\nInput -> Normalization Layer bias:\\n',norm_layer_biases)\n",
    "# print('\\nInput -> Normalization Layer weights:\\n',norm_layer_weights)\n",
    "# print('\\nNormalization -> Hidden Layer bias:\\n',hidden_layer_biases)\n",
    "# print('\\nNormalization -> Hidden Layer weights:\\n',hidden_layer_weights)\n",
    "# print('\\nHidden -> Output Layer bias:\\n',out_layer_biases)\n",
    "# print('\\nHidden -> Output Layer weights:\\n',out_layer_weights,'\\n')\n"
   ]
  },
  {
   "cell_type": "code",
   "execution_count": null,
   "metadata": {
    "executionInfo": {
     "elapsed": 5378,
     "status": "ok",
     "timestamp": 1716259977049,
     "user": {
      "displayName": "Vicente Lessa",
      "userId": "14551761473643883791"
     },
     "user_tz": 180
    },
    "id": "DL5sxqffj2co"
   },
   "outputs": [],
   "source": [
    "# Writes into the file\n",
    "# model parameters json file generation\n",
    "title = f\"/content/drive/MyDrive/network-traffic-classification-main/nn-reports/nn-nprint-app-iden-model-parameters-{number_of_attributes}x{hidden_layer_nodes}x{second_hidden_layer_nodes}x{output_layer_nodes}_{dt_string}.json\"\n",
    "with open(title, \"w\") as f:\n",
    "  json.dump(report, f)\n",
    "\n",
    "title_parameters_save = f\"/content/drive/MyDrive/network-traffic-classification-main/nn-reports/nn-nprint-app-iden-model-parameters-{number_of_attributes}x{hidden_layer_nodes}x{second_hidden_layer_nodes}x{output_layer_nodes}.json\"\n",
    "with open(title_parameters_save, \"w\") as f:\n",
    "  json.dump(report, f)\n",
    "\n",
    "# Calling `save('my_model')` creates a SavedModel folder `my_model`.\n",
    "# model weights file generation\n",
    "title_model_save = f'/content/drive/MyDrive/network-traffic-classification-main/tf-models/nn-nprint-app-iden-model-parameters-{number_of_attributes}x{hidden_layer_nodes}x{second_hidden_layer_nodes}x{output_layer_nodes}_{dt_string}.csv'\n",
    "model.save(title_model_save)\n",
    "\n",
    "title_model_save = f'/content/drive/MyDrive/network-traffic-classification-main/tf-models/nn-nprint-app-iden-model-parameters-{number_of_attributes}x{hidden_layer_nodes}x{second_hidden_layer_nodes}x{output_layer_nodes}.csv'\n",
    "model.save(title_model_save)\n"
   ]
  }
 ],
 "metadata": {
  "colab": {
   "authorship_tag": "ABX9TyOIH1M4SDzT/02evItuJvc2",
   "provenance": [
    {
     "file_id": "1N0tN69OVtNS4K7h67xdyUtJ0_hWbDa9x",
     "timestamp": 1701094766071
    },
    {
     "file_id": "18-qqwOnAL89_m5Lb45uZ40u1ut46iuIU",
     "timestamp": 1690808958392
    },
    {
     "file_id": "19JxEc2VYTW6pRVyhOmnsRVPvksE5gBBN",
     "timestamp": 1661778258249
    },
    {
     "file_id": "1u0E4CFsBf4k62yi38gfqB4HlagC-Tfhc",
     "timestamp": 1661541388425
    },
    {
     "file_id": "1Cpg4jNgwyPiT4AGenVm1xCQgBrzxHhCT",
     "timestamp": 1643821363627
    },
    {
     "file_id": "1k-uty64gq4zwMYT-FFDYnhQ-9Z5bXvQ-",
     "timestamp": 1642608790480
    },
    {
     "file_id": "1eXxWzQSIUjunkjCGopzkFpuoB42a7YbS",
     "timestamp": 1642604110588
    },
    {
     "file_id": "1Y0hheLUxBgA_oy3QG9nY0JRieWhjt4BM",
     "timestamp": 1639758139710
    }
   ]
  },
  "kernelspec": {
   "display_name": "Python 3 (ipykernel)",
   "language": "python",
   "name": "python3"
  },
  "language_info": {
   "codemirror_mode": {
    "name": "ipython",
    "version": 3
   },
   "file_extension": ".py",
   "mimetype": "text/x-python",
   "name": "python",
   "nbconvert_exporter": "python",
   "pygments_lexer": "ipython3",
   "version": "3.11.7"
  }
 },
 "nbformat": 4,
 "nbformat_minor": 4
}
